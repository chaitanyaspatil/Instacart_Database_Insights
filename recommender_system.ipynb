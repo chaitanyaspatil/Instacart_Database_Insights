{
 "cells": [
  {
   "cell_type": "code",
   "execution_count": 1,
   "id": "postal-lender",
   "metadata": {},
   "outputs": [],
   "source": [
    "from tqdm import tqdm\n",
    "from ast import literal_eval\n",
    "from collections import defaultdict\n",
    "from scipy.sparse import coo_matrix, csr_matrix\n",
    "from sklearn.metrics.pairwise import cosine_similarity\n",
    "\n",
    "import os\n",
    "import heapq\n",
    "import zipfile\n",
    "import pandas as pd\n",
    "import numpy as np\n",
    "import scipy.sparse as sparse"
   ]
  },
  {
   "cell_type": "code",
   "execution_count": 2,
   "id": "appreciated-zimbabwe",
   "metadata": {},
   "outputs": [],
   "source": [
    "# Some logistics helping functions\n",
    "class colors:\n",
    "    \"\"\"Color used for printing.\"\"\"\n",
    "    HEADER = '\\033[95m'\n",
    "    OKGREEN = '\\033[92m'\n",
    "    WARNING = '\\033[93m'\n",
    "    FAIL = '\\033[91m'\n",
    "    ENDC = '\\033[0m'\n",
    "\n",
    "def print_success(message):\n",
    "    \"\"\"Specific print func for this notebook.\"\"\"\n",
    "    print(f\"{colors.HEADER}[Recommender Message]{colors.ENDC} - {colors.OKGREEN}{message}{colors.ENDC}\")\n",
    "\n",
    "def print_failure(message):\n",
    "    \"\"\"Specific error func for this notebook.\"\"\"\n",
    "    print(f\"{colors.HEADER}[Recommender Failure]{colors.ENDC} - {colors.FAIL}{message}{colors.ENDC}\")\n",
    "\n",
    "def print_warning(message):\n",
    "    \"\"\"Specific warning func for this notebook.\"\"\"\n",
    "    print(f\"{colors.HEADER}[Recommender Warning]{colors.ENDC} - {colors.WARNING}{message}{colors.ENDC}\")"
   ]
  },
  {
   "cell_type": "markdown",
   "id": "threaded-august",
   "metadata": {},
   "source": [
    "# Preparation of training and testing data"
   ]
  },
  {
   "cell_type": "code",
   "execution_count": 3,
   "id": "seventh-census",
   "metadata": {},
   "outputs": [],
   "source": [
    "def extract_csv_data(zip_path, data_path):\n",
    "    \"\"\"Extract and retrieve csv data\"\"\"\n",
    "    # Get files in the zip_path\n",
    "    zip_files = [os.path.join(zip_path, f) for f in os.listdir(zip_path)]\n",
    "    print_success('Files in ' + zip_path + ':\\n' + str(zip_files))\n",
    "    \n",
    "    # Pass if data_path already exists\n",
    "    if os.path.exists(data_path):\n",
    "        print_warning('Extracted data (%s) are already existed.' % data_path)\n",
    "        return\n",
    "    \n",
    "    # Store the extracted csv files in data_path\n",
    "    for zip_file in zip_files:\n",
    "        if zipfile.is_zipfile(zip_file):\n",
    "            with zipfile.ZipFile(zip_file, 'r') as zip_ref:\n",
    "                zip_ref.extractall(data_path)\n",
    "    print_success('All zip files are extracted.')\n",
    "\n",
    "\n",
    "def get_training_data(data_path, store_path):\n",
    "    \"\"\"Define the prior(eval_set=\"prior\") orders as the training dataset.\"\"\"\n",
    "    prodsPerUser_filename = os.path.join(store_path, 'productsPerUser_train.csv')\n",
    "    userProdFreq_filename = os.path.join(store_path, 'user_product_frequency_train.csv')\n",
    "    prodFreq_filename = os.path.join(store_path, 'product_frequency_train.csv')\n",
    "    \n",
    "    # Pass if files are already existed\n",
    "    if os.path.exists(prodsPerUser_filename) and os.path.exists(userProdFreq_filename) and os.path.exists(prodFreq_filename):\n",
    "        print_warning('Training data are already existed.')\n",
    "        return pd.read_csv(prodFreq_filename), \\\n",
    "            pd.read_csv(userProdFreq_filename), \\\n",
    "            pd.read_csv(prodsPerUser_filename)\n",
    "    \n",
    "    try:\n",
    "        # Load the csv files as dataframes\n",
    "        df_orders = pd.read_csv(os.path.join(data_path, 'orders.csv'))\n",
    "        df_order_products_train = pd.read_csv(os.path.join(data_path, 'order_products__prior.csv'))\n",
    "        \n",
    "        # Trim the unnecessary columns\n",
    "        df_order_products_train = df_order_products_train[[\"order_id\", \"product_id\"]]\n",
    "        \n",
    "        # Get the frequency of occurrence for each product (ready for tf-idf)\n",
    "        df_product_frequency = df_order_products_train['product_id'].value_counts()\n",
    "        df_product_frequency = df_product_frequency.rename_axis('product_id').reset_index(name='frequency')\n",
    "        print_success('Calculation of product frequency is completed.')\n",
    "        \n",
    "        # Get the direct relation between products and users\n",
    "        df_usersAndProducts_train = pd.merge(df_orders, df_order_products_train, on='order_id', how='inner')\n",
    "        df_usersAndProducts_train = df_usersAndProducts_train[['user_id', 'product_id']]\n",
    "        df_productsPerUser_train = df_usersAndProducts_train.groupby('user_id').agg(set).reset_index()\n",
    "        print_success('Calculation of productsPerUser is completed.')\n",
    "        \n",
    "        # Get the frequency of occurence for each user-product pair\n",
    "        df_user_product_frequency = df_usersAndProducts_train.groupby(['user_id', 'product_id'])\\\n",
    "            .size().reset_index().rename(columns={0: 'frequency'})\n",
    "        print_success('Calculation of user-product-pair frequency is completed.')\n",
    "        \n",
    "        # Store the precessed data to enhance efficiency\n",
    "        if not os.path.exists(store_path):\n",
    "            os.mkdir(store_path)\n",
    "        df_productsPerUser_train.to_csv(prodsPerUser_filename, index_label=False)\n",
    "        df_user_product_frequency.to_csv(userProdFreq_filename, index_label=False)\n",
    "        df_product_frequency.to_csv(prodFreq_filename, index_label=False)\n",
    "        \n",
    "        print_success('Training data are retrieved and saved.')\n",
    "        return df_product_frequency, df_user_product_frequency, df_productsPerUser_train\n",
    "    except Exception as e: \n",
    "        print_failure(str(e))\n",
    "\n",
    "        \n",
    "def get_testing_data(data_path, store_path):\n",
    "    \"\"\"Define the current(eval_set=\"train\") orders as the testing dataset.\"\"\"\n",
    "    test_filename = os.path.join(store_path, 'productsPerUser_test.csv')\n",
    "    \n",
    "    # Pass if file is already existed\n",
    "    if os.path.exists(test_filename):\n",
    "        print_warning('Testing data are already existed.')\n",
    "        return pd.read_csv(test_filename)\n",
    "    \n",
    "    try:\n",
    "        # Load the csv files as dataframes\n",
    "        df_orders = pd.read_csv(os.path.join(data_path, 'orders.csv'))\n",
    "        df_order_products_test = pd.read_csv(os.path.join(data_path, 'order_products__train.csv'))\n",
    "        \n",
    "        # Trim the unnecessary columns\n",
    "        df_order_products_test = df_order_products_test[[\"order_id\", \"product_id\"]]\n",
    "        \n",
    "        # Get the direct relation between products and users\n",
    "        df_usersAndProducts_test = pd.merge(df_orders, df_order_products_test, on='order_id', how='inner')\n",
    "        df_usersAndProducts_test = df_usersAndProducts_test[['user_id', 'product_id']]\n",
    "        df_productsPerUser_test = df_usersAndProducts_test.groupby('user_id').agg(set).reset_index()\n",
    "        \n",
    "        # Store the precessed data to enhance efficiency\n",
    "        if not os.path.exists(store_path):\n",
    "            os.mkdir(store_path)\n",
    "        df_productsPerUser_test.to_csv(test_filename, index_label=False)\n",
    "        \n",
    "        print_success('Testing data are retrieved and saved.')\n",
    "        return df_productsPerUser_test\n",
    "    except Exception as e: \n",
    "        print_failure(str(e))\n",
    "\n",
    "        \n",
    "def get_category_data(data_path):\n",
    "    \"\"\"Get the other category csv datasets.\"\"\"\n",
    "    try:\n",
    "        df_aisles = pd.read_csv(os.path.join(data_path, 'aisles.csv'))\n",
    "        df_departments = pd.read_csv(os.path.join(data_path, 'departments.csv'))\n",
    "        df_products = pd.read_csv(os.path.join(data_path, 'products.csv'))\n",
    "        print_success('Category data are retrieved.')\n",
    "        return df_aisles, df_departments, df_products\n",
    "    except Exception as e:\n",
    "        print_failure(str(e))"
   ]
  },
  {
   "cell_type": "code",
   "execution_count": 4,
   "id": "apparent-drawing",
   "metadata": {
    "scrolled": true
   },
   "outputs": [
    {
     "name": "stdout",
     "output_type": "stream",
     "text": [
      "\u001b[95m[Recommender Message]\u001b[0m - \u001b[92mFiles in ./instacart-market-basket-analysis:\n",
      "['./instacart-market-basket-analysis/order_products__prior.csv.zip', './instacart-market-basket-analysis/order_products__train.csv.zip', './instacart-market-basket-analysis/aisles.csv.zip', './instacart-market-basket-analysis/orders.csv.zip', './instacart-market-basket-analysis/departments.csv.zip', './instacart-market-basket-analysis/products.csv.zip', './instacart-market-basket-analysis/sample_submission.csv.zip']\u001b[0m\n",
      "\u001b[95m[Recommender Warning]\u001b[0m - \u001b[93mExtracted data (./extracted_dataset) are already existed.\u001b[0m\n",
      "\u001b[95m[Recommender Warning]\u001b[0m - \u001b[93mTraining data are already existed.\u001b[0m\n",
      "\u001b[95m[Recommender Warning]\u001b[0m - \u001b[93mTesting data are already existed.\u001b[0m\n",
      "\u001b[95m[Recommender Message]\u001b[0m - \u001b[92mCategory data are retrieved.\u001b[0m\n"
     ]
    }
   ],
   "source": [
    "# Constants\n",
    "zip_path = './instacart-market-basket-analysis'\n",
    "data_path = './extracted_dataset'\n",
    "store_path = './train_test_data'\n",
    "\n",
    "# Data preparation\n",
    "extract_csv_data(zip_path, data_path)\n",
    "df_product_frequency, df_user_product_frequency, df_productsPerUser_train = get_training_data(data_path, store_path)\n",
    "df_productsPerUser_test = get_testing_data(data_path, store_path)\n",
    "df_aisles, df_departments, df_products = get_category_data(data_path)"
   ]
  },
  {
   "cell_type": "markdown",
   "id": "african-possession",
   "metadata": {},
   "source": [
    "**Data overview**"
   ]
  },
  {
   "cell_type": "code",
   "execution_count": 5,
   "id": "affected-sterling",
   "metadata": {},
   "outputs": [
    {
     "data": {
      "text/html": [
       "<div>\n",
       "<style scoped>\n",
       "    .dataframe tbody tr th:only-of-type {\n",
       "        vertical-align: middle;\n",
       "    }\n",
       "\n",
       "    .dataframe tbody tr th {\n",
       "        vertical-align: top;\n",
       "    }\n",
       "\n",
       "    .dataframe thead th {\n",
       "        text-align: right;\n",
       "    }\n",
       "</style>\n",
       "<table border=\"1\" class=\"dataframe\">\n",
       "  <thead>\n",
       "    <tr style=\"text-align: right;\">\n",
       "      <th></th>\n",
       "      <th>product_id</th>\n",
       "      <th>frequency</th>\n",
       "    </tr>\n",
       "  </thead>\n",
       "  <tbody>\n",
       "    <tr>\n",
       "      <th>0</th>\n",
       "      <td>24852</td>\n",
       "      <td>472565</td>\n",
       "    </tr>\n",
       "    <tr>\n",
       "      <th>1</th>\n",
       "      <td>13176</td>\n",
       "      <td>379450</td>\n",
       "    </tr>\n",
       "  </tbody>\n",
       "</table>\n",
       "</div>"
      ],
      "text/plain": [
       "   product_id  frequency\n",
       "0       24852     472565\n",
       "1       13176     379450"
      ]
     },
     "execution_count": 5,
     "metadata": {},
     "output_type": "execute_result"
    }
   ],
   "source": [
    "df_product_frequency.head(2)"
   ]
  },
  {
   "cell_type": "code",
   "execution_count": 6,
   "id": "editorial-maple",
   "metadata": {},
   "outputs": [
    {
     "data": {
      "text/html": [
       "<div>\n",
       "<style scoped>\n",
       "    .dataframe tbody tr th:only-of-type {\n",
       "        vertical-align: middle;\n",
       "    }\n",
       "\n",
       "    .dataframe tbody tr th {\n",
       "        vertical-align: top;\n",
       "    }\n",
       "\n",
       "    .dataframe thead th {\n",
       "        text-align: right;\n",
       "    }\n",
       "</style>\n",
       "<table border=\"1\" class=\"dataframe\">\n",
       "  <thead>\n",
       "    <tr style=\"text-align: right;\">\n",
       "      <th></th>\n",
       "      <th>user_id</th>\n",
       "      <th>product_id</th>\n",
       "      <th>frequency</th>\n",
       "    </tr>\n",
       "  </thead>\n",
       "  <tbody>\n",
       "    <tr>\n",
       "      <th>0</th>\n",
       "      <td>1</td>\n",
       "      <td>196</td>\n",
       "      <td>10</td>\n",
       "    </tr>\n",
       "    <tr>\n",
       "      <th>1</th>\n",
       "      <td>1</td>\n",
       "      <td>10258</td>\n",
       "      <td>9</td>\n",
       "    </tr>\n",
       "  </tbody>\n",
       "</table>\n",
       "</div>"
      ],
      "text/plain": [
       "   user_id  product_id  frequency\n",
       "0        1         196         10\n",
       "1        1       10258          9"
      ]
     },
     "execution_count": 6,
     "metadata": {},
     "output_type": "execute_result"
    }
   ],
   "source": [
    "df_user_product_frequency.head(2)"
   ]
  },
  {
   "cell_type": "code",
   "execution_count": 7,
   "id": "graduate-turtle",
   "metadata": {},
   "outputs": [
    {
     "data": {
      "text/html": [
       "<div>\n",
       "<style scoped>\n",
       "    .dataframe tbody tr th:only-of-type {\n",
       "        vertical-align: middle;\n",
       "    }\n",
       "\n",
       "    .dataframe tbody tr th {\n",
       "        vertical-align: top;\n",
       "    }\n",
       "\n",
       "    .dataframe thead th {\n",
       "        text-align: right;\n",
       "    }\n",
       "</style>\n",
       "<table border=\"1\" class=\"dataframe\">\n",
       "  <thead>\n",
       "    <tr style=\"text-align: right;\">\n",
       "      <th></th>\n",
       "      <th>user_id</th>\n",
       "      <th>product_id</th>\n",
       "    </tr>\n",
       "  </thead>\n",
       "  <tbody>\n",
       "    <tr>\n",
       "      <th>0</th>\n",
       "      <td>1</td>\n",
       "      <td>{17122, 196, 26405, 14084, 46149, 26088, 13032...</td>\n",
       "    </tr>\n",
       "    <tr>\n",
       "      <th>1</th>\n",
       "      <td>2</td>\n",
       "      <td>{45066, 2573, 18961, 1559, 32792, 23, 22559, 1...</td>\n",
       "    </tr>\n",
       "  </tbody>\n",
       "</table>\n",
       "</div>"
      ],
      "text/plain": [
       "   user_id                                         product_id\n",
       "0        1  {17122, 196, 26405, 14084, 46149, 26088, 13032...\n",
       "1        2  {45066, 2573, 18961, 1559, 32792, 23, 22559, 1..."
      ]
     },
     "execution_count": 7,
     "metadata": {},
     "output_type": "execute_result"
    }
   ],
   "source": [
    "df_productsPerUser_train.head(2)"
   ]
  },
  {
   "cell_type": "code",
   "execution_count": 8,
   "id": "passing-rapid",
   "metadata": {},
   "outputs": [
    {
     "data": {
      "text/html": [
       "<div>\n",
       "<style scoped>\n",
       "    .dataframe tbody tr th:only-of-type {\n",
       "        vertical-align: middle;\n",
       "    }\n",
       "\n",
       "    .dataframe tbody tr th {\n",
       "        vertical-align: top;\n",
       "    }\n",
       "\n",
       "    .dataframe thead th {\n",
       "        text-align: right;\n",
       "    }\n",
       "</style>\n",
       "<table border=\"1\" class=\"dataframe\">\n",
       "  <thead>\n",
       "    <tr style=\"text-align: right;\">\n",
       "      <th></th>\n",
       "      <th>user_id</th>\n",
       "      <th>product_id</th>\n",
       "    </tr>\n",
       "  </thead>\n",
       "  <tbody>\n",
       "    <tr>\n",
       "      <th>0</th>\n",
       "      <td>1</td>\n",
       "      <td>{196, 26405, 27845, 46149, 13032, 39657, 26088...</td>\n",
       "    </tr>\n",
       "    <tr>\n",
       "      <th>1</th>\n",
       "      <td>2</td>\n",
       "      <td>{24838, 11913, 45066, 31883, 48523, 38547, 248...</td>\n",
       "    </tr>\n",
       "  </tbody>\n",
       "</table>\n",
       "</div>"
      ],
      "text/plain": [
       "   user_id                                         product_id\n",
       "0        1  {196, 26405, 27845, 46149, 13032, 39657, 26088...\n",
       "1        2  {24838, 11913, 45066, 31883, 48523, 38547, 248..."
      ]
     },
     "execution_count": 8,
     "metadata": {},
     "output_type": "execute_result"
    }
   ],
   "source": [
    "df_productsPerUser_test.head(2)"
   ]
  },
  {
   "cell_type": "markdown",
   "id": "religious-mailman",
   "metadata": {},
   "source": [
    "# User-product frequency sparse matrix"
   ]
  },
  {
   "cell_type": "code",
   "execution_count": 9,
   "id": "funded-symphony",
   "metadata": {},
   "outputs": [],
   "source": [
    "def build_user_product_matrix(df_user_product_frequency, matrix_file_path, matrix_name):\n",
    "    \"\"\"Build and store coo/csr sparse matrix of user-product matrix.\"\"\"\n",
    "    matrix_path = os.path.join(matrix_file_path, matrix_name)\n",
    "    if os.path.exists(matrix_path):\n",
    "        print_warning('User-product matrix is already existed.')\n",
    "        return sparse.load_npz(matrix_path).tocsr()\n",
    "    \n",
    "    df_user_product_frequency['user_id'] = df_user_product_frequency['user_id'].astype('category')\n",
    "    df_user_product_frequency['product_id'] = df_user_product_frequency['product_id'].astype('category')\n",
    "    \n",
    "    # Define sparse user-product matrix in coo format\n",
    "    data = df_user_product_frequency['frequency']\n",
    "    row = df_user_product_frequency['user_id'].cat.codes.copy()\n",
    "    col = df_user_product_frequency['product_id'].cat.codes.copy()\n",
    "    user_product_matrix = sparse.coo_matrix((data, (row, col)))\n",
    "    \n",
    "    # Store and return the sparse matrix\n",
    "    if not os.path.exists(matrix_file_path):\n",
    "        os.mkdir(matrix_file_path) \n",
    "    sparse.save_npz(matrix_path, user_product_matrix)\n",
    "    print_success('User-product matrix is stored at %s' % matrix_path)\n",
    "    return user_product_matrix.tocsr()"
   ]
  },
  {
   "cell_type": "code",
   "execution_count": 10,
   "id": "warming-average",
   "metadata": {},
   "outputs": [
    {
     "name": "stdout",
     "output_type": "stream",
     "text": [
      "\u001b[95m[Recommender Warning]\u001b[0m - \u001b[93mUser-product matrix is already existed.\u001b[0m\n"
     ]
    },
    {
     "data": {
      "text/plain": [
       "<206209x49677 sparse matrix of type '<class 'numpy.int64'>'\n",
       "\twith 13307953 stored elements in Compressed Sparse Row format>"
      ]
     },
     "execution_count": 10,
     "metadata": {},
     "output_type": "execute_result"
    }
   ],
   "source": [
    "# Constants\n",
    "train_matrix_path = './matrixes'\n",
    "train_matrix_name = 'user_product_train.npz'\n",
    "\n",
    "# Generate sparse matrix for training\n",
    "user_product_matrix_train = build_user_product_matrix(df_user_product_frequency, train_matrix_path, train_matrix_name)\n",
    "user_product_matrix_train"
   ]
  },
  {
   "cell_type": "markdown",
   "id": "adapted-johnston",
   "metadata": {},
   "source": [
    "user number:  206209 \\\n",
    "product number:  49677"
   ]
  },
  {
   "cell_type": "code",
   "execution_count": 11,
   "id": "silver-booking",
   "metadata": {},
   "outputs": [
    {
     "data": {
      "text/plain": [
       "10"
      ]
     },
     "execution_count": 11,
     "metadata": {},
     "output_type": "execute_result"
    }
   ],
   "source": [
    "# Example of visiting element in sparse matrix\n",
    "user_product_matrix_train[0, 195] # user_id = 1, product_id = 196"
   ]
  },
  {
   "cell_type": "markdown",
   "id": "yellow-respondent",
   "metadata": {},
   "source": [
    "# User-product TF-IDF sparse matrix"
   ]
  },
  {
   "cell_type": "code",
   "execution_count": 12,
   "id": "assisted-privacy",
   "metadata": {},
   "outputs": [],
   "source": [
    "def build_tfidf_matrix(tf):\n",
    "    \"\"\"Build tf-idf sparse matrix for product. 'tf' refers to term frequency.\"\"\"\n",
    "    tf_idf = coo_matrix(tf)\n",
    "    \n",
    "    # Get total number of documents (here is user number)\n",
    "    N = tf.shape[0]\n",
    "    \n",
    "    # Calculate IDF (inverse document frequency)\n",
    "    idf = np.log(N / (1 + np.bincount(tf_idf.col)))\n",
    "\n",
    "    # TODO: you can try using the original defination of tf-idf\n",
    "    # Get tf-idf product\n",
    "    # tf_idf.data = tf_idf.data * idf[tf_idf.col]\n",
    "    \n",
    "    # Since terms don’t show up in many documents, we apply a square root penalty over tf to dampen it.\n",
    "    tf_idf.data = np.sqrt(tf_idf.data) * idf[tf_idf.col] \n",
    "    \n",
    "    return tf_idf"
   ]
  },
  {
   "cell_type": "code",
   "execution_count": 13,
   "id": "joined-procedure",
   "metadata": {},
   "outputs": [
    {
     "data": {
      "text/plain": [
       "<206209x49677 sparse matrix of type '<class 'numpy.float64'>'\n",
       "\twith 13307953 stored elements in Compressed Sparse Row format>"
      ]
     },
     "execution_count": 13,
     "metadata": {},
     "output_type": "execute_result"
    }
   ],
   "source": [
    "# Generate tf-idf matrix based on user-product-pair matrix\n",
    "user_product_tfidf_matrix_train = build_tfidf_matrix(user_product_matrix_train).tocsr()\n",
    "user_product_tfidf_matrix_train"
   ]
  },
  {
   "cell_type": "code",
   "execution_count": 14,
   "id": "serious-hands",
   "metadata": {},
   "outputs": [
    {
     "data": {
      "text/plain": [
       "10.275263695642945"
      ]
     },
     "execution_count": 14,
     "metadata": {},
     "output_type": "execute_result"
    }
   ],
   "source": [
    "# Example of tf-idf value\n",
    "user_product_tfidf_matrix_train[0, 195] # user_id = 1, product_id = 196"
   ]
  },
  {
   "cell_type": "markdown",
   "id": "earlier-tomato",
   "metadata": {},
   "source": [
    "# User_based collaborative filtering"
   ]
  },
  {
   "cell_type": "code",
   "execution_count": 15,
   "id": "disabled-scroll",
   "metadata": {},
   "outputs": [],
   "source": [
    "# User-based recommendation\n",
    "def get_topK_similar_users(user_id, feature_matrix, k):\n",
    "    \"\"\"Find the most k similar users based on similarity.\"\"\"\n",
    "    # Get list of cosine similarities\n",
    "    similarities = cosine_similarity(feature_matrix, feature_matrix[user_id - 1], False)\n",
    "    \n",
    "    # Select top K similar users\n",
    "    top_K_similar_users = heapq.nlargest(k + 1, range(similarities.shape[0]), similarities.toarray().take)[1:]\n",
    "    top_K_similar_users = [x + 1 for x in top_K_similar_users]\n",
    "    \n",
    "    # Return the list excluding the target user\n",
    "    return top_K_similar_users\n",
    "\n",
    "def generate_recommendation(user_id, feature_matrix, df_productsPerUser, df_product_frequency, k, n):\n",
    "    \"\"\"Find the most n recommended products based on the shopping history of the similar users.\"\"\"\n",
    "    # Get top k similar users\n",
    "    topK_similar_users = get_topK_similar_users(user_id, feature_matrix, k)\n",
    "    \n",
    "    # Product popularity is defined as following 2 parts:\n",
    "    # 1. the number of similar users who buy this product\n",
    "    # 2. the buying frequency of this product in all users\n",
    "    # TODO: the popularity definition can be adjusted, like \n",
    "    recommended_prods = defaultdict(int)\n",
    "    user_prods = df_productsPerUser['product_id'][df_productsPerUser['user_id'] == user_id].values[0]\n",
    "    if type(user_prods) == str:\n",
    "        user_prods = literal_eval(user_prods)\n",
    "    for user in topK_similar_users:\n",
    "        prods = df_productsPerUser['product_id'][df_productsPerUser['user_id'] == user].values\n",
    "        prods = set() if len(prods) == 0 else prods[0]\n",
    "        if type(prods) == str:\n",
    "            prods = literal_eval(prods)\n",
    "        for prod in prods:\n",
    "            recommended_prods[prod] += 1\n",
    "    \n",
    "    # Get popularity for each prod\n",
    "    recommended_prods = [(p, (x, int(df_product_frequency[df_product_frequency['product_id'] == x].frequency))) \\\n",
    "                         for (p, x) in recommended_prods.items()]\n",
    "    \n",
    "    # Sort the products based on the popularity in the set of similar users\n",
    "    recommended_prods = sorted(recommended_prods, key = lambda kv : (kv[1], kv[0]), reverse=True)\n",
    "    return recommended_prods[:n]\n",
    "    \n",
    "def report_userBased(recommended_prods, df_products, df_departments, df_aisles):\n",
    "    '''Prints out the details of the recommended products in a dataframe.'''\n",
    "    data = {'product_id': [], 'popularity': []}\n",
    "    for product in recommended_prods:\n",
    "        data['product_id'].append(product[0])\n",
    "        data['popularity'].append(product[1])\n",
    "    df = pd.DataFrame(data, columns=list(data.keys()))\n",
    "    df = pd.merge(df, df_products, on='product_id', how='inner') # add product details\n",
    "    df = pd.merge(df, df_departments, on='department_id', how='inner') # add department details\n",
    "    df = pd.merge(df, df_aisles, on='aisle_id', how='inner') # add aisle details\n",
    "    return df.sort_values(by='popularity', ascending=False)"
   ]
  },
  {
   "cell_type": "markdown",
   "id": "dental-intake",
   "metadata": {},
   "source": [
    "# Example of recommendation for user_id == 1"
   ]
  },
  {
   "cell_type": "code",
   "execution_count": 16,
   "id": "middle-michigan",
   "metadata": {},
   "outputs": [],
   "source": [
    "# Constants\n",
    "similar_user_num = 20 # TODO: adjust the value of k\n",
    "recommend_prod_num = 10 # TODO: adjust the value of n\n",
    "user_id = 1"
   ]
  },
  {
   "cell_type": "code",
   "execution_count": 17,
   "id": "expensive-arthur",
   "metadata": {},
   "outputs": [
    {
     "data": {
      "text/html": [
       "<div>\n",
       "<style scoped>\n",
       "    .dataframe tbody tr th:only-of-type {\n",
       "        vertical-align: middle;\n",
       "    }\n",
       "\n",
       "    .dataframe tbody tr th {\n",
       "        vertical-align: top;\n",
       "    }\n",
       "\n",
       "    .dataframe thead th {\n",
       "        text-align: right;\n",
       "    }\n",
       "</style>\n",
       "<table border=\"1\" class=\"dataframe\">\n",
       "  <thead>\n",
       "    <tr style=\"text-align: right;\">\n",
       "      <th></th>\n",
       "      <th>product_id</th>\n",
       "      <th>popularity</th>\n",
       "      <th>product_name</th>\n",
       "      <th>aisle_id</th>\n",
       "      <th>department_id</th>\n",
       "      <th>department</th>\n",
       "      <th>aisle</th>\n",
       "    </tr>\n",
       "  </thead>\n",
       "  <tbody>\n",
       "    <tr>\n",
       "      <th>0</th>\n",
       "      <td>196</td>\n",
       "      <td>(19, 4)</td>\n",
       "      <td>Soda</td>\n",
       "      <td>77</td>\n",
       "      <td>7</td>\n",
       "      <td>beverages</td>\n",
       "      <td>soft drinks</td>\n",
       "    </tr>\n",
       "    <tr>\n",
       "      <th>2</th>\n",
       "      <td>12427</td>\n",
       "      <td>(17, 18)</td>\n",
       "      <td>Original Beef Jerky</td>\n",
       "      <td>23</td>\n",
       "      <td>19</td>\n",
       "      <td>snacks</td>\n",
       "      <td>popcorn jerky</td>\n",
       "    </tr>\n",
       "    <tr>\n",
       "      <th>8</th>\n",
       "      <td>13176</td>\n",
       "      <td>(12, 246)</td>\n",
       "      <td>Bag of Organic Bananas</td>\n",
       "      <td>24</td>\n",
       "      <td>4</td>\n",
       "      <td>produce</td>\n",
       "      <td>fresh fruits</td>\n",
       "    </tr>\n",
       "    <tr>\n",
       "      <th>1</th>\n",
       "      <td>46149</td>\n",
       "      <td>(10, 2572)</td>\n",
       "      <td>Zero Calorie Cola</td>\n",
       "      <td>77</td>\n",
       "      <td>7</td>\n",
       "      <td>beverages</td>\n",
       "      <td>soft drinks</td>\n",
       "    </tr>\n",
       "    <tr>\n",
       "      <th>9</th>\n",
       "      <td>6184</td>\n",
       "      <td>(9, 156)</td>\n",
       "      <td>Clementines</td>\n",
       "      <td>32</td>\n",
       "      <td>4</td>\n",
       "      <td>produce</td>\n",
       "      <td>packaged produce</td>\n",
       "    </tr>\n",
       "    <tr>\n",
       "      <th>4</th>\n",
       "      <td>41400</td>\n",
       "      <td>(7, 30)</td>\n",
       "      <td>Crunchy Oats 'n Honey Granola Bars</td>\n",
       "      <td>3</td>\n",
       "      <td>19</td>\n",
       "      <td>snacks</td>\n",
       "      <td>energy granola bars</td>\n",
       "    </tr>\n",
       "    <tr>\n",
       "      <th>5</th>\n",
       "      <td>37710</td>\n",
       "      <td>(7, 30)</td>\n",
       "      <td>Trail Mix</td>\n",
       "      <td>125</td>\n",
       "      <td>19</td>\n",
       "      <td>snacks</td>\n",
       "      <td>trail mix snack mix</td>\n",
       "    </tr>\n",
       "    <tr>\n",
       "      <th>6</th>\n",
       "      <td>10258</td>\n",
       "      <td>(7, 30)</td>\n",
       "      <td>Pistachios</td>\n",
       "      <td>117</td>\n",
       "      <td>19</td>\n",
       "      <td>snacks</td>\n",
       "      <td>nuts seeds dried fruit</td>\n",
       "    </tr>\n",
       "    <tr>\n",
       "      <th>7</th>\n",
       "      <td>31651</td>\n",
       "      <td>(6, 8)</td>\n",
       "      <td>Extra Fancy Unsalted Mixed Nuts</td>\n",
       "      <td>117</td>\n",
       "      <td>19</td>\n",
       "      <td>snacks</td>\n",
       "      <td>nuts seeds dried fruit</td>\n",
       "    </tr>\n",
       "    <tr>\n",
       "      <th>3</th>\n",
       "      <td>46061</td>\n",
       "      <td>(5, 15)</td>\n",
       "      <td>Popcorn</td>\n",
       "      <td>23</td>\n",
       "      <td>19</td>\n",
       "      <td>snacks</td>\n",
       "      <td>popcorn jerky</td>\n",
       "    </tr>\n",
       "  </tbody>\n",
       "</table>\n",
       "</div>"
      ],
      "text/plain": [
       "   product_id  popularity                        product_name  aisle_id  \\\n",
       "0         196     (19, 4)                                Soda        77   \n",
       "2       12427    (17, 18)                 Original Beef Jerky        23   \n",
       "8       13176   (12, 246)              Bag of Organic Bananas        24   \n",
       "1       46149  (10, 2572)                   Zero Calorie Cola        77   \n",
       "9        6184    (9, 156)                         Clementines        32   \n",
       "4       41400     (7, 30)  Crunchy Oats 'n Honey Granola Bars         3   \n",
       "5       37710     (7, 30)                           Trail Mix       125   \n",
       "6       10258     (7, 30)                          Pistachios       117   \n",
       "7       31651      (6, 8)     Extra Fancy Unsalted Mixed Nuts       117   \n",
       "3       46061     (5, 15)                             Popcorn        23   \n",
       "\n",
       "   department_id department                   aisle  \n",
       "0              7  beverages             soft drinks  \n",
       "2             19     snacks           popcorn jerky  \n",
       "8              4    produce            fresh fruits  \n",
       "1              7  beverages             soft drinks  \n",
       "9              4    produce        packaged produce  \n",
       "4             19     snacks     energy granola bars  \n",
       "5             19     snacks     trail mix snack mix  \n",
       "6             19     snacks  nuts seeds dried fruit  \n",
       "7             19     snacks  nuts seeds dried fruit  \n",
       "3             19     snacks           popcorn jerky  "
      ]
     },
     "execution_count": 17,
     "metadata": {},
     "output_type": "execute_result"
    }
   ],
   "source": [
    "# Use tfidf matrix for similarity calculation\n",
    "recommended_prods = generate_recommendation(user_id, \\\n",
    "                                            user_product_matrix_train, \\\n",
    "                                            df_productsPerUser_train, \\\n",
    "                                            df_product_frequency, \\\n",
    "                                            similar_user_num, \\\n",
    "                                            recommend_prod_num)\n",
    "report_userBased(recommended_prods, df_products, df_departments, df_aisles)"
   ]
  },
  {
   "cell_type": "code",
   "execution_count": 18,
   "id": "controversial-animal",
   "metadata": {},
   "outputs": [
    {
     "data": {
      "text/html": [
       "<div>\n",
       "<style scoped>\n",
       "    .dataframe tbody tr th:only-of-type {\n",
       "        vertical-align: middle;\n",
       "    }\n",
       "\n",
       "    .dataframe tbody tr th {\n",
       "        vertical-align: top;\n",
       "    }\n",
       "\n",
       "    .dataframe thead th {\n",
       "        text-align: right;\n",
       "    }\n",
       "</style>\n",
       "<table border=\"1\" class=\"dataframe\">\n",
       "  <thead>\n",
       "    <tr style=\"text-align: right;\">\n",
       "      <th></th>\n",
       "      <th>product_id</th>\n",
       "      <th>popularity</th>\n",
       "      <th>product_name</th>\n",
       "      <th>aisle_id</th>\n",
       "      <th>department_id</th>\n",
       "      <th>department</th>\n",
       "      <th>aisle</th>\n",
       "    </tr>\n",
       "  </thead>\n",
       "  <tbody>\n",
       "    <tr>\n",
       "      <th>0</th>\n",
       "      <td>12427</td>\n",
       "      <td>(15, 4)</td>\n",
       "      <td>Original Beef Jerky</td>\n",
       "      <td>23</td>\n",
       "      <td>19</td>\n",
       "      <td>snacks</td>\n",
       "      <td>popcorn jerky</td>\n",
       "    </tr>\n",
       "    <tr>\n",
       "      <th>4</th>\n",
       "      <td>196</td>\n",
       "      <td>(14, 17)</td>\n",
       "      <td>Soda</td>\n",
       "      <td>77</td>\n",
       "      <td>7</td>\n",
       "      <td>beverages</td>\n",
       "      <td>soft drinks</td>\n",
       "    </tr>\n",
       "    <tr>\n",
       "      <th>1</th>\n",
       "      <td>10258</td>\n",
       "      <td>(12, 246)</td>\n",
       "      <td>Pistachios</td>\n",
       "      <td>117</td>\n",
       "      <td>19</td>\n",
       "      <td>snacks</td>\n",
       "      <td>nuts seeds dried fruit</td>\n",
       "    </tr>\n",
       "    <tr>\n",
       "      <th>6</th>\n",
       "      <td>13176</td>\n",
       "      <td>(10, 2572)</td>\n",
       "      <td>Bag of Organic Bananas</td>\n",
       "      <td>24</td>\n",
       "      <td>4</td>\n",
       "      <td>produce</td>\n",
       "      <td>fresh fruits</td>\n",
       "    </tr>\n",
       "    <tr>\n",
       "      <th>9</th>\n",
       "      <td>6184</td>\n",
       "      <td>(7, 30)</td>\n",
       "      <td>Clementines</td>\n",
       "      <td>32</td>\n",
       "      <td>4</td>\n",
       "      <td>produce</td>\n",
       "      <td>packaged produce</td>\n",
       "    </tr>\n",
       "    <tr>\n",
       "      <th>2</th>\n",
       "      <td>41400</td>\n",
       "      <td>(6, 8)</td>\n",
       "      <td>Crunchy Oats 'n Honey Granola Bars</td>\n",
       "      <td>3</td>\n",
       "      <td>19</td>\n",
       "      <td>snacks</td>\n",
       "      <td>energy granola bars</td>\n",
       "    </tr>\n",
       "    <tr>\n",
       "      <th>5</th>\n",
       "      <td>46149</td>\n",
       "      <td>(6, 8)</td>\n",
       "      <td>Zero Calorie Cola</td>\n",
       "      <td>77</td>\n",
       "      <td>7</td>\n",
       "      <td>beverages</td>\n",
       "      <td>soft drinks</td>\n",
       "    </tr>\n",
       "    <tr>\n",
       "      <th>3</th>\n",
       "      <td>37710</td>\n",
       "      <td>(5, 15)</td>\n",
       "      <td>Trail Mix</td>\n",
       "      <td>125</td>\n",
       "      <td>19</td>\n",
       "      <td>snacks</td>\n",
       "      <td>trail mix snack mix</td>\n",
       "    </tr>\n",
       "    <tr>\n",
       "      <th>7</th>\n",
       "      <td>16797</td>\n",
       "      <td>(5, 15)</td>\n",
       "      <td>Strawberries</td>\n",
       "      <td>24</td>\n",
       "      <td>4</td>\n",
       "      <td>produce</td>\n",
       "      <td>fresh fruits</td>\n",
       "    </tr>\n",
       "    <tr>\n",
       "      <th>8</th>\n",
       "      <td>47402</td>\n",
       "      <td>(4, 329)</td>\n",
       "      <td>Fuji Apples</td>\n",
       "      <td>24</td>\n",
       "      <td>4</td>\n",
       "      <td>produce</td>\n",
       "      <td>fresh fruits</td>\n",
       "    </tr>\n",
       "  </tbody>\n",
       "</table>\n",
       "</div>"
      ],
      "text/plain": [
       "   product_id  popularity                        product_name  aisle_id  \\\n",
       "0       12427     (15, 4)                 Original Beef Jerky        23   \n",
       "4         196    (14, 17)                                Soda        77   \n",
       "1       10258   (12, 246)                          Pistachios       117   \n",
       "6       13176  (10, 2572)              Bag of Organic Bananas        24   \n",
       "9        6184     (7, 30)                         Clementines        32   \n",
       "2       41400      (6, 8)  Crunchy Oats 'n Honey Granola Bars         3   \n",
       "5       46149      (6, 8)                   Zero Calorie Cola        77   \n",
       "3       37710     (5, 15)                           Trail Mix       125   \n",
       "7       16797     (5, 15)                        Strawberries        24   \n",
       "8       47402    (4, 329)                         Fuji Apples        24   \n",
       "\n",
       "   department_id department                   aisle  \n",
       "0             19     snacks           popcorn jerky  \n",
       "4              7  beverages             soft drinks  \n",
       "1             19     snacks  nuts seeds dried fruit  \n",
       "6              4    produce            fresh fruits  \n",
       "9              4    produce        packaged produce  \n",
       "2             19     snacks     energy granola bars  \n",
       "5              7  beverages             soft drinks  \n",
       "3             19     snacks     trail mix snack mix  \n",
       "7              4    produce            fresh fruits  \n",
       "8              4    produce            fresh fruits  "
      ]
     },
     "execution_count": 18,
     "metadata": {},
     "output_type": "execute_result"
    }
   ],
   "source": [
    "# Use tfidf matrix for similarity calculation\n",
    "recommended_prods = generate_recommendation(user_id, \\\n",
    "                                            user_product_tfidf_matrix_train, \\\n",
    "                                            df_productsPerUser_train, \\\n",
    "                                            df_product_frequency, \\\n",
    "                                            similar_user_num, \\\n",
    "                                            recommend_prod_num)\n",
    "report_userBased(recommended_prods, df_products, df_departments, df_aisles)"
   ]
  },
  {
   "cell_type": "markdown",
   "id": "harmful-vietnamese",
   "metadata": {},
   "source": [
    "# Testing"
   ]
  },
  {
   "cell_type": "code",
   "execution_count": 19,
   "id": "committed-joint",
   "metadata": {},
   "outputs": [],
   "source": [
    "def get_recall(rec, tru):\n",
    "    \"\"\"Recommendation recall: |{R & P}|/|P| (R - recommended products, P - relevant products)\"\"\"\n",
    "    return len(rec & tru)/len(tru) if len(tru) != 0 else 0\n",
    "    \n",
    "def get_precision(rec, tru):\n",
    "    \"\"\"Recommendation precision: |{R & P}|/|R| (R - recommended products, P - relevant products)\"\"\"\n",
    "    return len(rec & tru)/len(rec) if len(rec) != 0 else 0\n",
    "\n",
    "def test_recommender(feature_matrix, df_productsPerUser_test, df_product_frequency, k, n):\n",
    "    \"\"\"Test recommender function. (recall and precision)\"\"\"\n",
    "    right_cases, total_cases = 0, 0\n",
    "    users = df_productsPerUser_test['user_id'].to_list()[:100] # TODO: please remove [:100] for final test\n",
    "    \n",
    "    # Variables used for recording\n",
    "    right_cases, total_cases = 0, 0\n",
    "    recall_sum, precision_sum = 0, 0\n",
    "    \n",
    "    for user in tqdm(users):\n",
    "        # the user-based recommendation list\n",
    "        recommended_prods = generate_recommendation(user, feature_matrix, df_productsPerUser_test, df_product_frequency, k, n)\n",
    "        recommended_prods = set([x for (x, _) in recommended_prods])\n",
    "        # actual product list\n",
    "        actual_prods = df_productsPerUser_test[df_productsPerUser_test['user_id'] == user].product_id.tolist()[0]\n",
    "        if type(actual_prods) == str:\n",
    "            actual_prods = literal_eval(actual_prods)\n",
    "        # Check how many right products we recommend\n",
    "        recall_sum += get_recall(recommended_prods, actual_prods)\n",
    "        precision_sum += get_precision(recommended_prods, actual_prods)\n",
    "        right_cases += len(recommended_prods & actual_prods)\n",
    "        total_cases += len(actual_prods)\n",
    "    \n",
    "    # Get average and total value\n",
    "    print_success('average: (recall, precision) = (%f, %f)' % (recall_sum/len(users), precision_sum/len(users)))\n",
    "    print_success('total: (recall, precision) = (%f, %f)' % (right_cases/total_cases, right_cases/(n*len(users))))"
   ]
  },
  {
   "cell_type": "code",
   "execution_count": 20,
   "id": "baking-scenario",
   "metadata": {
    "scrolled": true
   },
   "outputs": [
    {
     "name": "stderr",
     "output_type": "stream",
     "text": [
      "100%|██████████| 100/100 [00:48<00:00,  2.06it/s]"
     ]
    },
    {
     "name": "stdout",
     "output_type": "stream",
     "text": [
      "\u001b[95m[Recommender Message]\u001b[0m - \u001b[92maverage: (recall, precision) = (0.184941, 0.138000)\u001b[0m\n",
      "\u001b[95m[Recommender Message]\u001b[0m - \u001b[92mtotal: (recall, precision) = (0.131429, 0.138000)\u001b[0m\n"
     ]
    },
    {
     "name": "stderr",
     "output_type": "stream",
     "text": [
      "\n"
     ]
    }
   ],
   "source": [
    "# Testing of the users with id from 1 to 100 (directly using frequeny matrix as feature matrix)\n",
    "test_recommender(user_product_matrix_train, \n",
    "                 df_productsPerUser_test, \n",
    "                 df_product_frequency, \n",
    "                 similar_user_num, \n",
    "                 recommend_prod_num)"
   ]
  },
  {
   "cell_type": "code",
   "execution_count": null,
   "id": "detected-ethics",
   "metadata": {},
   "outputs": [
    {
     "name": "stderr",
     "output_type": "stream",
     "text": [
      " 29%|██▉       | 29/100 [00:12<00:32,  2.16it/s]"
     ]
    }
   ],
   "source": [
    "# Testing of the users with id from 1 to 100 (using tf-idf matrix as feature matrix)\n",
    "test_recommender(user_product_tfidf_matrix_train, \n",
    "                 df_productsPerUser_test, \n",
    "                 df_product_frequency, \n",
    "                 similar_user_num, \n",
    "                 recommend_prod_num)"
   ]
  },
  {
   "cell_type": "code",
   "execution_count": null,
   "id": "level-account",
   "metadata": {},
   "outputs": [],
   "source": []
  }
 ],
 "metadata": {
  "@webio": {
   "lastCommId": null,
   "lastKernelId": null
  },
  "kernelspec": {
   "display_name": "Python 3",
   "language": "python",
   "name": "python3"
  },
  "language_info": {
   "codemirror_mode": {
    "name": "ipython",
    "version": 3
   },
   "file_extension": ".py",
   "mimetype": "text/x-python",
   "name": "python",
   "nbconvert_exporter": "python",
   "pygments_lexer": "ipython3",
   "version": "3.9.1"
  }
 },
 "nbformat": 4,
 "nbformat_minor": 5
}
