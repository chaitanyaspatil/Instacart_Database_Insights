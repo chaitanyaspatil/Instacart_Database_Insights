{
  "nbformat": 4,
  "nbformat_minor": 0,
  "metadata": {
    "language_info": {
      "codemirror_mode": {
        "name": "ipython",
        "version": 3
      },
      "file_extension": ".py",
      "mimetype": "text/x-python",
      "name": "python",
      "nbconvert_exporter": "python",
      "pygments_lexer": "ipython3",
      "version": "3.8.8-final"
    },
    "orig_nbformat": 2,
    "kernelspec": {
      "name": "python3",
      "display_name": "Python 3.8.8 64-bit ('ECE_143': conda)",
      "metadata": {
        "interpreter": {
          "hash": "20cd7ca7382ac2c55fe10d67040580c34b0879dd9d0da9802b97c51499a7b7c3"
        }
      }
    },
    "colab": {
      "name": "data_questions.ipynb",
      "provenance": [],
      "collapsed_sections": [],
      "toc_visible": true
    }
  },
  "cells": [
    {
      "cell_type": "markdown",
      "metadata": {
        "id": "jZHSZwBiS3Ah"
      },
      "source": [
        "### In this notebook we will compile interesting questions that we can answer using the data from this table.\n",
        "### We can refer to data_exploration.ipynb to figure out what kind of information we already have."
      ]
    },
    {
      "cell_type": "markdown",
      "metadata": {
        "id": "ULJJhRNgS3Ap"
      },
      "source": [
        "1. On an average, how often do people order from Instacart?\n",
        "2. What product was ordered most often?\n",
        "3. At what time during the day do people order most? Can we have a plot for how busy different times during the day are?\n",
        "4. How often do people order ice-cream? How often do they order alcohol?\n",
        "5. If we classify all food-related orders under food groups (dairy, vegetables, protein) - what groups are represented more than others in terms of number of items?\n",
        "6.  What is usually the first item people put into their cart?"
      ]
    },
    {
      "cell_type": "markdown",
      "metadata": {
        "id": "qPBY5MyrS3Aq"
      },
      "source": [
        "### Q1. On an average, how often do people order from Instacart?"
      ]
    },
    {
      "cell_type": "code",
      "metadata": {
        "id": "E8ovRgLES3Aq"
      },
      "source": [
        "import pandas as pd \n",
        "import numpy as np \n",
        "import matplotlib.pyplot as plt \n",
        "from matplotlib.colors import LogNorm\n",
        "import math\n",
        "\n",
        "import seaborn as sns\n",
        "color = sns.color_palette()\n",
        "%matplotlib inline"
      ],
      "execution_count": 22,
      "outputs": []
    },
    {
      "cell_type": "code",
      "metadata": {
        "id": "joWeyDhUS3Ar"
      },
      "source": [
        "orders = pd.read_csv('/orders.csv')#./instacart-market-basket-analysis/orders.csv\r\n",
        "department = pd.read_csv('/departments.csv') #./instacart-market-basket-analysis/departments.csv\r\n",
        "order_products_prior = pd.read_csv('/order_products__prior.csv')#./instacart-market-basket-analysis/order_products__prior.csv\r\n",
        "products = pd.read_csv('/products.csv')#./instacart-market-basket-analysis/products.csv"
      ],
      "execution_count": 23,
      "outputs": []
    },
    {
      "cell_type": "code",
      "metadata": {
        "colab": {
          "base_uri": "https://localhost:8080/",
          "height": 407
        },
        "id": "ZSOtXlNvS3Ar",
        "outputId": "bd6749f2-c108-4d96-d9b5-614e0b614dab"
      },
      "source": [
        "orders"
      ],
      "execution_count": 24,
      "outputs": [
        {
          "output_type": "execute_result",
          "data": {
            "text/html": [
              "<div>\n",
              "<style scoped>\n",
              "    .dataframe tbody tr th:only-of-type {\n",
              "        vertical-align: middle;\n",
              "    }\n",
              "\n",
              "    .dataframe tbody tr th {\n",
              "        vertical-align: top;\n",
              "    }\n",
              "\n",
              "    .dataframe thead th {\n",
              "        text-align: right;\n",
              "    }\n",
              "</style>\n",
              "<table border=\"1\" class=\"dataframe\">\n",
              "  <thead>\n",
              "    <tr style=\"text-align: right;\">\n",
              "      <th></th>\n",
              "      <th>order_id</th>\n",
              "      <th>user_id</th>\n",
              "      <th>eval_set</th>\n",
              "      <th>order_number</th>\n",
              "      <th>order_dow</th>\n",
              "      <th>order_hour_of_day</th>\n",
              "      <th>days_since_prior_order</th>\n",
              "    </tr>\n",
              "  </thead>\n",
              "  <tbody>\n",
              "    <tr>\n",
              "      <th>0</th>\n",
              "      <td>2539329</td>\n",
              "      <td>1</td>\n",
              "      <td>prior</td>\n",
              "      <td>1</td>\n",
              "      <td>2</td>\n",
              "      <td>8</td>\n",
              "      <td>NaN</td>\n",
              "    </tr>\n",
              "    <tr>\n",
              "      <th>1</th>\n",
              "      <td>2398795</td>\n",
              "      <td>1</td>\n",
              "      <td>prior</td>\n",
              "      <td>2</td>\n",
              "      <td>3</td>\n",
              "      <td>7</td>\n",
              "      <td>15.0</td>\n",
              "    </tr>\n",
              "    <tr>\n",
              "      <th>2</th>\n",
              "      <td>473747</td>\n",
              "      <td>1</td>\n",
              "      <td>prior</td>\n",
              "      <td>3</td>\n",
              "      <td>3</td>\n",
              "      <td>12</td>\n",
              "      <td>21.0</td>\n",
              "    </tr>\n",
              "    <tr>\n",
              "      <th>3</th>\n",
              "      <td>2254736</td>\n",
              "      <td>1</td>\n",
              "      <td>prior</td>\n",
              "      <td>4</td>\n",
              "      <td>4</td>\n",
              "      <td>7</td>\n",
              "      <td>29.0</td>\n",
              "    </tr>\n",
              "    <tr>\n",
              "      <th>4</th>\n",
              "      <td>431534</td>\n",
              "      <td>1</td>\n",
              "      <td>prior</td>\n",
              "      <td>5</td>\n",
              "      <td>4</td>\n",
              "      <td>15</td>\n",
              "      <td>28.0</td>\n",
              "    </tr>\n",
              "    <tr>\n",
              "      <th>...</th>\n",
              "      <td>...</td>\n",
              "      <td>...</td>\n",
              "      <td>...</td>\n",
              "      <td>...</td>\n",
              "      <td>...</td>\n",
              "      <td>...</td>\n",
              "      <td>...</td>\n",
              "    </tr>\n",
              "    <tr>\n",
              "      <th>3421078</th>\n",
              "      <td>2266710</td>\n",
              "      <td>206209</td>\n",
              "      <td>prior</td>\n",
              "      <td>10</td>\n",
              "      <td>5</td>\n",
              "      <td>18</td>\n",
              "      <td>29.0</td>\n",
              "    </tr>\n",
              "    <tr>\n",
              "      <th>3421079</th>\n",
              "      <td>1854736</td>\n",
              "      <td>206209</td>\n",
              "      <td>prior</td>\n",
              "      <td>11</td>\n",
              "      <td>4</td>\n",
              "      <td>10</td>\n",
              "      <td>30.0</td>\n",
              "    </tr>\n",
              "    <tr>\n",
              "      <th>3421080</th>\n",
              "      <td>626363</td>\n",
              "      <td>206209</td>\n",
              "      <td>prior</td>\n",
              "      <td>12</td>\n",
              "      <td>1</td>\n",
              "      <td>12</td>\n",
              "      <td>18.0</td>\n",
              "    </tr>\n",
              "    <tr>\n",
              "      <th>3421081</th>\n",
              "      <td>2977660</td>\n",
              "      <td>206209</td>\n",
              "      <td>prior</td>\n",
              "      <td>13</td>\n",
              "      <td>1</td>\n",
              "      <td>12</td>\n",
              "      <td>7.0</td>\n",
              "    </tr>\n",
              "    <tr>\n",
              "      <th>3421082</th>\n",
              "      <td>272231</td>\n",
              "      <td>206209</td>\n",
              "      <td>train</td>\n",
              "      <td>14</td>\n",
              "      <td>6</td>\n",
              "      <td>14</td>\n",
              "      <td>30.0</td>\n",
              "    </tr>\n",
              "  </tbody>\n",
              "</table>\n",
              "<p>3421083 rows × 7 columns</p>\n",
              "</div>"
            ],
            "text/plain": [
              "         order_id  user_id  ... order_hour_of_day  days_since_prior_order\n",
              "0         2539329        1  ...                 8                     NaN\n",
              "1         2398795        1  ...                 7                    15.0\n",
              "2          473747        1  ...                12                    21.0\n",
              "3         2254736        1  ...                 7                    29.0\n",
              "4          431534        1  ...                15                    28.0\n",
              "...           ...      ...  ...               ...                     ...\n",
              "3421078   2266710   206209  ...                18                    29.0\n",
              "3421079   1854736   206209  ...                10                    30.0\n",
              "3421080    626363   206209  ...                12                    18.0\n",
              "3421081   2977660   206209  ...                12                     7.0\n",
              "3421082    272231   206209  ...                14                    30.0\n",
              "\n",
              "[3421083 rows x 7 columns]"
            ]
          },
          "metadata": {
            "tags": []
          },
          "execution_count": 24
        }
      ]
    },
    {
      "cell_type": "code",
      "metadata": {
        "colab": {
          "base_uri": "https://localhost:8080/"
        },
        "id": "kw47lYqfS3As",
        "outputId": "c0564732-7cc1-4f95-ac16-2a1bf87d7344"
      },
      "source": [
        "# plan: take the average of the row days_since_prior_order, but don't include NaNs.\n",
        "# pandas ignores NaNs while taking average, so we only need to call the average method on the series.\n",
        "\n",
        "print('On an average, people order once every ', orders['days_since_prior_order'].mean(), 'days')"
      ],
      "execution_count": 25,
      "outputs": [
        {
          "output_type": "stream",
          "text": [
            "On an average, people order once every  11.114836226863012 days\n"
          ],
          "name": "stdout"
        }
      ]
    },
    {
      "cell_type": "markdown",
      "metadata": {
        "id": "0PsFm0jOS3At"
      },
      "source": [
        "### Q2. What product was ordered most often?"
      ]
    },
    {
      "cell_type": "code",
      "metadata": {
        "id": "f8rj54JNS3At"
      },
      "source": [
        "# plan - we use two tables: order_products__train.csv and order_products__prior.csv. We assume these have different values, and we check if they are the same. Best to check the kaggle dataset for any hints as to what these files have.\n",
        "\n",
        "# for simplicity, we take just one file for this question - prior.\n"
      ],
      "execution_count": 26,
      "outputs": []
    },
    {
      "cell_type": "code",
      "metadata": {
        "colab": {
          "base_uri": "https://localhost:8080/",
          "height": 407
        },
        "id": "xTKBURIUS3At",
        "outputId": "4910c1fa-1a58-4d70-da24-3e81271147c8"
      },
      "source": [
        "# the table looks like so:\n",
        "order_products_prior"
      ],
      "execution_count": 27,
      "outputs": [
        {
          "output_type": "execute_result",
          "data": {
            "text/html": [
              "<div>\n",
              "<style scoped>\n",
              "    .dataframe tbody tr th:only-of-type {\n",
              "        vertical-align: middle;\n",
              "    }\n",
              "\n",
              "    .dataframe tbody tr th {\n",
              "        vertical-align: top;\n",
              "    }\n",
              "\n",
              "    .dataframe thead th {\n",
              "        text-align: right;\n",
              "    }\n",
              "</style>\n",
              "<table border=\"1\" class=\"dataframe\">\n",
              "  <thead>\n",
              "    <tr style=\"text-align: right;\">\n",
              "      <th></th>\n",
              "      <th>order_id</th>\n",
              "      <th>product_id</th>\n",
              "      <th>add_to_cart_order</th>\n",
              "      <th>reordered</th>\n",
              "    </tr>\n",
              "  </thead>\n",
              "  <tbody>\n",
              "    <tr>\n",
              "      <th>0</th>\n",
              "      <td>2</td>\n",
              "      <td>33120</td>\n",
              "      <td>1</td>\n",
              "      <td>1.0</td>\n",
              "    </tr>\n",
              "    <tr>\n",
              "      <th>1</th>\n",
              "      <td>2</td>\n",
              "      <td>28985</td>\n",
              "      <td>2</td>\n",
              "      <td>1.0</td>\n",
              "    </tr>\n",
              "    <tr>\n",
              "      <th>2</th>\n",
              "      <td>2</td>\n",
              "      <td>9327</td>\n",
              "      <td>3</td>\n",
              "      <td>0.0</td>\n",
              "    </tr>\n",
              "    <tr>\n",
              "      <th>3</th>\n",
              "      <td>2</td>\n",
              "      <td>45918</td>\n",
              "      <td>4</td>\n",
              "      <td>1.0</td>\n",
              "    </tr>\n",
              "    <tr>\n",
              "      <th>4</th>\n",
              "      <td>2</td>\n",
              "      <td>30035</td>\n",
              "      <td>5</td>\n",
              "      <td>0.0</td>\n",
              "    </tr>\n",
              "    <tr>\n",
              "      <th>...</th>\n",
              "      <td>...</td>\n",
              "      <td>...</td>\n",
              "      <td>...</td>\n",
              "      <td>...</td>\n",
              "    </tr>\n",
              "    <tr>\n",
              "      <th>20995336</th>\n",
              "      <td>2214666</td>\n",
              "      <td>45763</td>\n",
              "      <td>8</td>\n",
              "      <td>1.0</td>\n",
              "    </tr>\n",
              "    <tr>\n",
              "      <th>20995337</th>\n",
              "      <td>2214666</td>\n",
              "      <td>25466</td>\n",
              "      <td>9</td>\n",
              "      <td>1.0</td>\n",
              "    </tr>\n",
              "    <tr>\n",
              "      <th>20995338</th>\n",
              "      <td>2214666</td>\n",
              "      <td>47759</td>\n",
              "      <td>10</td>\n",
              "      <td>1.0</td>\n",
              "    </tr>\n",
              "    <tr>\n",
              "      <th>20995339</th>\n",
              "      <td>2214666</td>\n",
              "      <td>31354</td>\n",
              "      <td>11</td>\n",
              "      <td>0.0</td>\n",
              "    </tr>\n",
              "    <tr>\n",
              "      <th>20995340</th>\n",
              "      <td>2214667</td>\n",
              "      <td>28985</td>\n",
              "      <td>1</td>\n",
              "      <td>NaN</td>\n",
              "    </tr>\n",
              "  </tbody>\n",
              "</table>\n",
              "<p>20995341 rows × 4 columns</p>\n",
              "</div>"
            ],
            "text/plain": [
              "          order_id  product_id  add_to_cart_order  reordered\n",
              "0                2       33120                  1        1.0\n",
              "1                2       28985                  2        1.0\n",
              "2                2        9327                  3        0.0\n",
              "3                2       45918                  4        1.0\n",
              "4                2       30035                  5        0.0\n",
              "...            ...         ...                ...        ...\n",
              "20995336   2214666       45763                  8        1.0\n",
              "20995337   2214666       25466                  9        1.0\n",
              "20995338   2214666       47759                 10        1.0\n",
              "20995339   2214666       31354                 11        0.0\n",
              "20995340   2214667       28985                  1        NaN\n",
              "\n",
              "[20995341 rows x 4 columns]"
            ]
          },
          "metadata": {
            "tags": []
          },
          "execution_count": 27
        }
      ]
    },
    {
      "cell_type": "code",
      "metadata": {
        "id": "-JQomdBMS3Au"
      },
      "source": [
        "# for each order, we want each product to be considered only once in our calculations. So we should remove duplicates of the same order_id and product_id for this question.\n",
        "\n",
        "df = order_products_prior.drop_duplicates(subset=['order_id', 'product_id'])\n",
        "\n",
        "df_with_product_description = df.merge(products, on = 'product_id', how='inner')"
      ],
      "execution_count": 28,
      "outputs": []
    },
    {
      "cell_type": "code",
      "metadata": {
        "colab": {
          "base_uri": "https://localhost:8080/",
          "height": 407
        },
        "id": "gBVnykUeS3Au",
        "outputId": "9474deac-516e-42e0-9a49-e1c5d7377515"
      },
      "source": [
        "df_with_product_description"
      ],
      "execution_count": 29,
      "outputs": [
        {
          "output_type": "execute_result",
          "data": {
            "text/html": [
              "<div>\n",
              "<style scoped>\n",
              "    .dataframe tbody tr th:only-of-type {\n",
              "        vertical-align: middle;\n",
              "    }\n",
              "\n",
              "    .dataframe tbody tr th {\n",
              "        vertical-align: top;\n",
              "    }\n",
              "\n",
              "    .dataframe thead th {\n",
              "        text-align: right;\n",
              "    }\n",
              "</style>\n",
              "<table border=\"1\" class=\"dataframe\">\n",
              "  <thead>\n",
              "    <tr style=\"text-align: right;\">\n",
              "      <th></th>\n",
              "      <th>order_id</th>\n",
              "      <th>product_id</th>\n",
              "      <th>add_to_cart_order</th>\n",
              "      <th>reordered</th>\n",
              "      <th>product_name</th>\n",
              "      <th>aisle_id</th>\n",
              "      <th>department_id</th>\n",
              "    </tr>\n",
              "  </thead>\n",
              "  <tbody>\n",
              "    <tr>\n",
              "      <th>0</th>\n",
              "      <td>2</td>\n",
              "      <td>33120</td>\n",
              "      <td>1</td>\n",
              "      <td>1.0</td>\n",
              "      <td>Organic Egg Whites</td>\n",
              "      <td>86</td>\n",
              "      <td>16</td>\n",
              "    </tr>\n",
              "    <tr>\n",
              "      <th>1</th>\n",
              "      <td>26</td>\n",
              "      <td>33120</td>\n",
              "      <td>5</td>\n",
              "      <td>0.0</td>\n",
              "      <td>Organic Egg Whites</td>\n",
              "      <td>86</td>\n",
              "      <td>16</td>\n",
              "    </tr>\n",
              "    <tr>\n",
              "      <th>2</th>\n",
              "      <td>120</td>\n",
              "      <td>33120</td>\n",
              "      <td>13</td>\n",
              "      <td>0.0</td>\n",
              "      <td>Organic Egg Whites</td>\n",
              "      <td>86</td>\n",
              "      <td>16</td>\n",
              "    </tr>\n",
              "    <tr>\n",
              "      <th>3</th>\n",
              "      <td>327</td>\n",
              "      <td>33120</td>\n",
              "      <td>5</td>\n",
              "      <td>1.0</td>\n",
              "      <td>Organic Egg Whites</td>\n",
              "      <td>86</td>\n",
              "      <td>16</td>\n",
              "    </tr>\n",
              "    <tr>\n",
              "      <th>4</th>\n",
              "      <td>390</td>\n",
              "      <td>33120</td>\n",
              "      <td>28</td>\n",
              "      <td>1.0</td>\n",
              "      <td>Organic Egg Whites</td>\n",
              "      <td>86</td>\n",
              "      <td>16</td>\n",
              "    </tr>\n",
              "    <tr>\n",
              "      <th>...</th>\n",
              "      <td>...</td>\n",
              "      <td>...</td>\n",
              "      <td>...</td>\n",
              "      <td>...</td>\n",
              "      <td>...</td>\n",
              "      <td>...</td>\n",
              "      <td>...</td>\n",
              "    </tr>\n",
              "    <tr>\n",
              "      <th>20995336</th>\n",
              "      <td>2184501</td>\n",
              "      <td>4417</td>\n",
              "      <td>14</td>\n",
              "      <td>0.0</td>\n",
              "      <td>Organic Veggie Ground</td>\n",
              "      <td>14</td>\n",
              "      <td>20</td>\n",
              "    </tr>\n",
              "    <tr>\n",
              "      <th>20995337</th>\n",
              "      <td>2187851</td>\n",
              "      <td>16979</td>\n",
              "      <td>2</td>\n",
              "      <td>0.0</td>\n",
              "      <td>Zero Mercury 2025 Lithium Batteries</td>\n",
              "      <td>87</td>\n",
              "      <td>17</td>\n",
              "    </tr>\n",
              "    <tr>\n",
              "      <th>20995338</th>\n",
              "      <td>2196056</td>\n",
              "      <td>14128</td>\n",
              "      <td>3</td>\n",
              "      <td>0.0</td>\n",
              "      <td>Tangerine Melon Bubble Bath</td>\n",
              "      <td>25</td>\n",
              "      <td>11</td>\n",
              "    </tr>\n",
              "    <tr>\n",
              "      <th>20995339</th>\n",
              "      <td>2199666</td>\n",
              "      <td>25131</td>\n",
              "      <td>1</td>\n",
              "      <td>0.0</td>\n",
              "      <td>All Natural Dill Weed</td>\n",
              "      <td>104</td>\n",
              "      <td>13</td>\n",
              "    </tr>\n",
              "    <tr>\n",
              "      <th>20995340</th>\n",
              "      <td>2211665</td>\n",
              "      <td>34331</td>\n",
              "      <td>6</td>\n",
              "      <td>0.0</td>\n",
              "      <td>Chelated Magnesium 250 Mg Gluten Free</td>\n",
              "      <td>47</td>\n",
              "      <td>11</td>\n",
              "    </tr>\n",
              "  </tbody>\n",
              "</table>\n",
              "<p>20995341 rows × 7 columns</p>\n",
              "</div>"
            ],
            "text/plain": [
              "          order_id  product_id  ...  aisle_id  department_id\n",
              "0                2       33120  ...        86             16\n",
              "1               26       33120  ...        86             16\n",
              "2              120       33120  ...        86             16\n",
              "3              327       33120  ...        86             16\n",
              "4              390       33120  ...        86             16\n",
              "...            ...         ...  ...       ...            ...\n",
              "20995336   2184501        4417  ...        14             20\n",
              "20995337   2187851       16979  ...        87             17\n",
              "20995338   2196056       14128  ...        25             11\n",
              "20995339   2199666       25131  ...       104             13\n",
              "20995340   2211665       34331  ...        47             11\n",
              "\n",
              "[20995341 rows x 7 columns]"
            ]
          },
          "metadata": {
            "tags": []
          },
          "execution_count": 29
        }
      ]
    },
    {
      "cell_type": "code",
      "metadata": {
        "colab": {
          "base_uri": "https://localhost:8080/"
        },
        "id": "ctO9BDgTS3Au",
        "outputId": "377fa9db-7e08-4b1a-e59e-b192049648e9"
      },
      "source": [
        "# now if we group by product_id and show count along with product_id, that should be quite interesting\n",
        "# but product_id tells us nothing, so best to also join the result to products table.\n",
        "df_with_product_description.groupby(['product_name']).count().sort_values(by = 'order_id', ascending=False)['order_id']"
      ],
      "execution_count": 30,
      "outputs": [
        {
          "output_type": "execute_result",
          "data": {
            "text/plain": [
              "product_name\n",
              "Banana                              306688\n",
              "Bag of Organic Bananas              245484\n",
              "Organic Strawberries                171504\n",
              "Organic Baby Spinach                156296\n",
              "Organic Hass Avocado                138105\n",
              "                                     ...  \n",
              "Disinfecting Toilet Bowl Cleaner         1\n",
              "Unflavored Arctic Cod Liver Oil          1\n",
              "Sweet Echinacea                          1\n",
              "18 Year Scotch Whisky                    1\n",
              "Marmalade, Pink Grapefruit               1\n",
              "Name: order_id, Length: 49543, dtype: int64"
            ]
          },
          "metadata": {
            "tags": []
          },
          "execution_count": 30
        }
      ]
    },
    {
      "cell_type": "code",
      "metadata": {
        "colab": {
          "base_uri": "https://localhost:8080/"
        },
        "id": "Eeo8I1HNS3Au",
        "outputId": "41c410d7-2479-4908-b83e-d6633d7ade70"
      },
      "source": [
        "print('Bananas were ordered most often, followed Strawberries, Baby Spinach, and Avocados')"
      ],
      "execution_count": 31,
      "outputs": [
        {
          "output_type": "stream",
          "text": [
            "Bananas were ordered most often, followed Strawberries, Baby Spinach, and Avocados\n"
          ],
          "name": "stdout"
        }
      ]
    },
    {
      "cell_type": "markdown",
      "metadata": {
        "id": "ysvad08HS3Av"
      },
      "source": [
        "### Q3. At what time during the day do people order most often?"
      ]
    },
    {
      "cell_type": "code",
      "metadata": {
        "colab": {
          "base_uri": "https://localhost:8080/",
          "height": 339
        },
        "id": "CbmZdWgOS3Av",
        "outputId": "07d1528f-d3c8-478d-ae28-04898da9dfd9"
      },
      "source": [
        "# plan - take orders table and group by order time of day\n",
        "time_of_day = orders.groupby(by='order_hour_of_day').count().sort_values(by='order_hour_of_day', ascending=True)\n",
        "plt.figure(figsize=(10,5))\n",
        "time_of_day['order_id'].plot.bar()\n",
        "plt.ylabel('Number of orders');"
      ],
      "execution_count": 32,
      "outputs": [
        {
          "output_type": "display_data",
          "data": {
            "image/png": "[encoded data removed]",
            "text/plain": [
              "<Figure size 720x360 with 1 Axes>"
            ]
          },
          "metadata": {
            "tags": [],
            "needs_background": "light"
          }
        }
      ]
    },
    {
      "cell_type": "code",
      "metadata": {
        "colab": {
          "base_uri": "https://localhost:8080/",
          "height": 411
        },
        "id": "xLiADT6mTf92",
        "outputId": "37185e67-5bba-40ba-9de5-986e80727388"
      },
      "source": [
        "grouped_data = orders.groupby([\"order_dow\", \"order_hour_of_day\"])[\"order_number\"].aggregate(\"count\").reset_index()\r\n",
        "grouped_data = grouped_data.pivot('order_dow', 'order_hour_of_day', 'order_number')\r\n",
        "\r\n",
        "grouped_data.index = pd.CategoricalIndex(grouped_data.index, categories=[0,1,2,3,4,5,6])\r\n",
        "grouped_data.sort_index(level=0, inplace=True)\r\n",
        "\r\n",
        "plt.figure(figsize=(12,6))\r\n",
        "hour_of_day = ['0', '1', '2', '3', '4', '5', '6', '7', '8', '9', '10', '11', '12', '13', '14','15','16', '17', '18', '19','20', '21', '22', '23']\r\n",
        "dow = [ 'SUN', 'MON', 'TUES', 'WED', 'THUR','FRI','SAT']  \r\n",
        "\r\n",
        "ax = sns.heatmap(grouped_data, xticklabels=hour_of_day,yticklabels=dow,cbar_kws={'label': 'Number Of Orders Made/1000'})\r\n",
        "cbar = ax.collections[0].colorbar\r\n",
        "cbar.set_ticks([0, 10000, 20000, 30000, 40000, 50000])\r\n",
        "cbar.set_ticklabels(['0','10.0','20.0','30.0','40.0','50.0'])\r\n",
        "ax.figure.axes[-1].yaxis.label.set_size(15)\r\n",
        "ax.figure.axes[0].yaxis.label.set_size(15)\r\n",
        "ax.figure.axes[0].xaxis.label.set_size(15)\r\n",
        "\r\n",
        "ax.set(xlabel='Hour of Day', ylabel= \"Day of the Week\")\r\n",
        "ax.set_title(\"Number of orders made by Day of the Week vs Hour of Day\", fontsize=15)\r\n",
        "plt.show()"
      ],
      "execution_count": 33,
      "outputs": [
        {
          "output_type": "display_data",
          "data": {
            "image/png": "[encoded data removed]",
            "text/plain": [
              "<Figure size 864x432 with 2 Axes>"
            ]
          },
          "metadata": {
            "tags": [],
            "needs_background": "light"
          }
        }
      ]
    },
    {
      "cell_type": "code",
      "metadata": {
        "colab": {
          "base_uri": "https://localhost:8080/",
          "height": 411
        },
        "id": "S1EWrfvaTkaj",
        "outputId": "2577a696-84ce-4f9f-ba24-a22730f1fcf1"
      },
      "source": [
        "grouped_data = orders.groupby([\"order_dow\", \"order_hour_of_day\"])[\"order_number\"].aggregate(\"count\").reset_index()\r\n",
        "grouped_data = grouped_data.pivot('order_dow', 'order_hour_of_day', 'order_number')\r\n",
        "\r\n",
        "grouped_data.index = pd.CategoricalIndex(grouped_data.index, categories=[0,1,2,3,4,5,6])\r\n",
        "grouped_data.sort_index(level=0, inplace=True)\r\n",
        "\r\n",
        "plt.figure(figsize=(12,6))\r\n",
        "hour_of_day = ['0', '1', '2', '3', '4', '5', '6', '7', '8', '9', '10', '11', '12', '13', '14','15','16', '17', '18', '19','20', '21', '22', '23']\r\n",
        "dow = [ 'SUN', 'MON', 'TUES', 'WED', 'THUR','FRI','SAT']  \r\n",
        "\r\n",
        "ax = sns.heatmap(grouped_data, xticklabels=hour_of_day,yticklabels=dow,norm=LogNorm(),cbar=False)\r\n",
        "cbar = ax.collections[0].colorbar\r\n",
        "\r\n",
        "ax.figure.axes[-1].yaxis.label.set_size(15)\r\n",
        "ax.figure.axes[0].yaxis.label.set_size(15)\r\n",
        "ax.figure.axes[0].xaxis.label.set_size(15)\r\n",
        "\r\n",
        "\r\n",
        "ax.set(xlabel='Hour of Day', ylabel= \"Day of the Week\")\r\n",
        "ax.set_title(\"Number of orders made by Day of the Week vs Hour of Day(logscaled)\", fontsize=15)\r\n",
        "plt.show()"
      ],
      "execution_count": 34,
      "outputs": [
        {
          "output_type": "display_data",
          "data": {
            "image/png": "[encoded data removed]",
            "text/plain": [
              "<Figure size 864x432 with 1 Axes>"
            ]
          },
          "metadata": {
            "tags": [],
            "needs_background": "light"
          }
        }
      ]
    },
    {
      "cell_type": "markdown",
      "metadata": {
        "id": "RK7MaZa9S3Av"
      },
      "source": [
        "### Q4. What departments are the most popular? What can we say about food habits based on this?"
      ]
    },
    {
      "cell_type": "code",
      "metadata": {
        "id": "Fc3hyprYS3Aw"
      },
      "source": [
        "# plan: Which departments are most popular?\n",
        "# which departments have the most products ordered from them.\n",
        "# from order product table, group by department. Merge with department table.\n"
      ],
      "execution_count": 35,
      "outputs": []
    },
    {
      "cell_type": "code",
      "metadata": {
        "id": "fmfW3YfwS3Aw"
      },
      "source": [
        "df_with_product_description_dept = df_with_product_description.merge(department, on='department_id') # contains all the info for this question"
      ],
      "execution_count": 36,
      "outputs": []
    },
    {
      "cell_type": "code",
      "metadata": {
        "colab": {
          "base_uri": "https://localhost:8080/",
          "height": 407
        },
        "id": "R1sBOX7dS3Aw",
        "outputId": "d4b13136-5572-471e-f091-7331c374414a"
      },
      "source": [
        "df_with_product_description_dept"
      ],
      "execution_count": 37,
      "outputs": [
        {
          "output_type": "execute_result",
          "data": {
            "text/html": [
              "<div>\n",
              "<style scoped>\n",
              "    .dataframe tbody tr th:only-of-type {\n",
              "        vertical-align: middle;\n",
              "    }\n",
              "\n",
              "    .dataframe tbody tr th {\n",
              "        vertical-align: top;\n",
              "    }\n",
              "\n",
              "    .dataframe thead th {\n",
              "        text-align: right;\n",
              "    }\n",
              "</style>\n",
              "<table border=\"1\" class=\"dataframe\">\n",
              "  <thead>\n",
              "    <tr style=\"text-align: right;\">\n",
              "      <th></th>\n",
              "      <th>order_id</th>\n",
              "      <th>product_id</th>\n",
              "      <th>add_to_cart_order</th>\n",
              "      <th>reordered</th>\n",
              "      <th>product_name</th>\n",
              "      <th>aisle_id</th>\n",
              "      <th>department_id</th>\n",
              "      <th>department</th>\n",
              "    </tr>\n",
              "  </thead>\n",
              "  <tbody>\n",
              "    <tr>\n",
              "      <th>0</th>\n",
              "      <td>2</td>\n",
              "      <td>33120</td>\n",
              "      <td>1</td>\n",
              "      <td>1.0</td>\n",
              "      <td>Organic Egg Whites</td>\n",
              "      <td>86</td>\n",
              "      <td>16</td>\n",
              "      <td>dairy eggs</td>\n",
              "    </tr>\n",
              "    <tr>\n",
              "      <th>1</th>\n",
              "      <td>26</td>\n",
              "      <td>33120</td>\n",
              "      <td>5</td>\n",
              "      <td>0.0</td>\n",
              "      <td>Organic Egg Whites</td>\n",
              "      <td>86</td>\n",
              "      <td>16</td>\n",
              "      <td>dairy eggs</td>\n",
              "    </tr>\n",
              "    <tr>\n",
              "      <th>2</th>\n",
              "      <td>120</td>\n",
              "      <td>33120</td>\n",
              "      <td>13</td>\n",
              "      <td>0.0</td>\n",
              "      <td>Organic Egg Whites</td>\n",
              "      <td>86</td>\n",
              "      <td>16</td>\n",
              "      <td>dairy eggs</td>\n",
              "    </tr>\n",
              "    <tr>\n",
              "      <th>3</th>\n",
              "      <td>327</td>\n",
              "      <td>33120</td>\n",
              "      <td>5</td>\n",
              "      <td>1.0</td>\n",
              "      <td>Organic Egg Whites</td>\n",
              "      <td>86</td>\n",
              "      <td>16</td>\n",
              "      <td>dairy eggs</td>\n",
              "    </tr>\n",
              "    <tr>\n",
              "      <th>4</th>\n",
              "      <td>390</td>\n",
              "      <td>33120</td>\n",
              "      <td>28</td>\n",
              "      <td>1.0</td>\n",
              "      <td>Organic Egg Whites</td>\n",
              "      <td>86</td>\n",
              "      <td>16</td>\n",
              "      <td>dairy eggs</td>\n",
              "    </tr>\n",
              "    <tr>\n",
              "      <th>...</th>\n",
              "      <td>...</td>\n",
              "      <td>...</td>\n",
              "      <td>...</td>\n",
              "      <td>...</td>\n",
              "      <td>...</td>\n",
              "      <td>...</td>\n",
              "      <td>...</td>\n",
              "      <td>...</td>\n",
              "    </tr>\n",
              "    <tr>\n",
              "      <th>20995336</th>\n",
              "      <td>2060183</td>\n",
              "      <td>27047</td>\n",
              "      <td>34</td>\n",
              "      <td>0.0</td>\n",
              "      <td>Bloody Mary Cocktail Mix</td>\n",
              "      <td>6</td>\n",
              "      <td>2</td>\n",
              "      <td>other</td>\n",
              "    </tr>\n",
              "    <tr>\n",
              "      <th>20995337</th>\n",
              "      <td>1682445</td>\n",
              "      <td>19869</td>\n",
              "      <td>1</td>\n",
              "      <td>0.0</td>\n",
              "      <td>Sniffle Support Drops Alcohol Free Formula</td>\n",
              "      <td>6</td>\n",
              "      <td>2</td>\n",
              "      <td>other</td>\n",
              "    </tr>\n",
              "    <tr>\n",
              "      <th>20995338</th>\n",
              "      <td>1948556</td>\n",
              "      <td>19869</td>\n",
              "      <td>5</td>\n",
              "      <td>0.0</td>\n",
              "      <td>Sniffle Support Drops Alcohol Free Formula</td>\n",
              "      <td>6</td>\n",
              "      <td>2</td>\n",
              "      <td>other</td>\n",
              "    </tr>\n",
              "    <tr>\n",
              "      <th>20995339</th>\n",
              "      <td>1884444</td>\n",
              "      <td>13103</td>\n",
              "      <td>16</td>\n",
              "      <td>0.0</td>\n",
              "      <td>Boneless Beef Top Round Steak</td>\n",
              "      <td>6</td>\n",
              "      <td>2</td>\n",
              "      <td>other</td>\n",
              "    </tr>\n",
              "    <tr>\n",
              "      <th>20995340</th>\n",
              "      <td>2157328</td>\n",
              "      <td>3437</td>\n",
              "      <td>12</td>\n",
              "      <td>0.0</td>\n",
              "      <td>Melatonin Chewable Lozenges 3 Mg</td>\n",
              "      <td>6</td>\n",
              "      <td>2</td>\n",
              "      <td>other</td>\n",
              "    </tr>\n",
              "  </tbody>\n",
              "</table>\n",
              "<p>20995341 rows × 8 columns</p>\n",
              "</div>"
            ],
            "text/plain": [
              "          order_id  product_id  ...  department_id  department\n",
              "0                2       33120  ...             16  dairy eggs\n",
              "1               26       33120  ...             16  dairy eggs\n",
              "2              120       33120  ...             16  dairy eggs\n",
              "3              327       33120  ...             16  dairy eggs\n",
              "4              390       33120  ...             16  dairy eggs\n",
              "...            ...         ...  ...            ...         ...\n",
              "20995336   2060183       27047  ...              2       other\n",
              "20995337   1682445       19869  ...              2       other\n",
              "20995338   1948556       19869  ...              2       other\n",
              "20995339   1884444       13103  ...              2       other\n",
              "20995340   2157328        3437  ...              2       other\n",
              "\n",
              "[20995341 rows x 8 columns]"
            ]
          },
          "metadata": {
            "tags": []
          },
          "execution_count": 37
        }
      ]
    },
    {
      "cell_type": "code",
      "metadata": {
        "colab": {
          "base_uri": "https://localhost:8080/",
          "height": 591
        },
        "id": "_R-HYH2eS3Aw",
        "outputId": "5faee34b-c41f-4b12-8362-a339f4d3e4b6"
      },
      "source": [
        "how_many_items_per_department = df_with_product_description_dept.groupby(by='department').count()['order_id'].sort_values(ascending = False)\n",
        "how_many_items_per_department.plot.pie(y='order_id', figsize = [10,10], title = 'Share of items per department (version 1)');"
      ],
      "execution_count": 38,
      "outputs": [
        {
          "output_type": "display_data",
          "data": {
            "image/png": "[encoded data removed]",
            "text/plain": [
              "<Figure size 720x720 with 1 Axes>"
            ]
          },
          "metadata": {
            "tags": []
          }
        }
      ]
    },
    {
      "cell_type": "markdown",
      "metadata": {
        "id": "G5YeFOrUS3Ax"
      },
      "source": [
        "## Q6. What is usually the first item that shoppers put into their carts?"
      ]
    },
    {
      "cell_type": "markdown",
      "metadata": {
        "id": "zOrQU29ES3Ax"
      },
      "source": [
        "### filter the dataset such that you only have those orders which satisfy add_to_cart_order == 1"
      ]
    },
    {
      "cell_type": "code",
      "metadata": {
        "id": "TRXLcKWlS3Ax"
      },
      "source": [
        "first_in_cart = df_with_product_description['add_to_cart_order'] == 1"
      ],
      "execution_count": 39,
      "outputs": []
    },
    {
      "cell_type": "code",
      "metadata": {
        "id": "bQgLHKIfS3Ay"
      },
      "source": [
        "first_in_cart_products = df_with_product_description[first_in_cart]"
      ],
      "execution_count": 40,
      "outputs": []
    },
    {
      "cell_type": "code",
      "metadata": {
        "colab": {
          "base_uri": "https://localhost:8080/"
        },
        "id": "51uZXoySS3Ay",
        "outputId": "b05cddd8-8ccb-435e-c1f1-40a77d3a73a8"
      },
      "source": [
        "first_in_cart_products.groupby(by='product_name').count()['order_id'].sort_values(ascending = False)[:15]"
      ],
      "execution_count": 41,
      "outputs": [
        {
          "output_type": "execute_result",
          "data": {
            "text/plain": [
              "product_name\n",
              "Banana                        71884\n",
              "Bag of Organic Bananas        51109\n",
              "Organic Whole Milk            20131\n",
              "Organic Strawberries          18195\n",
              "Organic Hass Avocado          15587\n",
              "Organic Baby Spinach          15191\n",
              "Organic Avocado               14418\n",
              "Spring Water                  10802\n",
              "Strawberries                  10579\n",
              "Organic Raspberries            9149\n",
              "Sparkling Water Grapefruit     8905\n",
              "Organic Half & Half            8195\n",
              "Large Lemon                    8010\n",
              "Soda                           7544\n",
              "Organic Reduced Fat Milk       6460\n",
              "Name: order_id, dtype: int64"
            ]
          },
          "metadata": {
            "tags": []
          },
          "execution_count": 41
        }
      ]
    },
    {
      "cell_type": "markdown",
      "metadata": {
        "id": "0DdhLaR4S3Az"
      },
      "source": [
        "The first thing people put in their carts is generally produce.\n",
        "Why do people order produce so often? Because it is perishable. You buy it in small quantities, because if you buy too much at one time, it goes bad. Another reason is that it is genuinely popular. Fruits make great snacks!"
      ]
    },
    {
      "cell_type": "markdown",
      "metadata": {
        "id": "YQCeErWsS3Az"
      },
      "source": [
        ""
      ]
    }
  ]
}