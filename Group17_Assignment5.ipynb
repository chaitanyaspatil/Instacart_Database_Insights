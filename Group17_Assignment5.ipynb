{
  "nbformat": 4,
  "nbformat_minor": 0,
  "metadata": {
    "kernelspec": {
      "display_name": "Python 3",
      "language": "python",
      "name": "python3"
    },
    "language_info": {
      "codemirror_mode": {
        "name": "ipython",
        "version": 3
      },
      "file_extension": ".py",
      "mimetype": "text/x-python",
      "name": "python",
      "nbconvert_exporter": "python",
      "pygments_lexer": "ipython3",
      "version": "3.9.1"
    },
    "colab": {
      "name": "Group17_Assignment5.ipynb",
      "provenance": [],
      "collapsed_sections": []
    }
  },
  "cells": [
    {
      "cell_type": "markdown",
      "metadata": {
        "id": "nkDlobdLs23e"
      },
      "source": [
        "# Question 1 Word processing\n",
        "Download this corpus of 10,000 common English words and write the following functions given a list of words:\n",
        "\n",
        "Compute the average length of the words (get_average_word_length(words))\n",
        "What is the longest word (get_longest_word(words))?\n",
        "What is the longest word that starts with a single letter (get_longest_words_startswith(words,start))\n",
        "What is the most common starting letter (get_most_common_start(words))?\n",
        "What is the most common ending letter (get_most_common_end(words))?\n",
        "For testing you can use this bit of code to download the words from the corpus:\n",
        "\n",
        "from urllib.request import urlopen\n",
        "u='https://storage.googleapis.com/class-notes-181217.appspot.com/google-10000-english-no-swears.txt'\n",
        "response = urlopen(u)\n",
        "words = [i.strip().decode('utf8') for i in response.readlines()]"
      ]
    },
    {
      "cell_type": "markdown",
      "metadata": {
        "id": "8v3ORaORs23n"
      },
      "source": [
        "**Validation Tests** <br>\n",
        "Check for corner cases and constraints in the inputs enlist all cases used for testing"
      ]
    },
    {
      "cell_type": "code",
      "metadata": {
        "id": "qE-QzyMLs23p"
      },
      "source": [
        "assert isinstance(words, list), \"words must be a list\"\n",
        "assert len(words) > 0, \"words can not be an empty list\"\n",
        "assert all(isinstance(word, str) for word in words), \"words must include only string-type objects\"\n",
        "assert isinstance(start, str) and len(start) == 1 and start.isalpha() and start.islower(), \"start must be a lower-case letter\""
      ],
      "execution_count": null,
      "outputs": []
    },
    {
      "cell_type": "markdown",
      "metadata": {
        "id": "qvzb8JD2s23q"
      },
      "source": [
        "**Functional Tests** <br>\n",
        "Check function output matches expected result enlist all cases used for testing"
      ]
    },
    {
      "cell_type": "markdown",
      "metadata": {
        "id": "JGSuR-zDs23q"
      },
      "source": [
        "*get_average_word_length(words)*"
      ]
    },
    {
      "cell_type": "code",
      "metadata": {
        "id": "YAj1yo7bs23r"
      },
      "source": [
        "data = [\"worda\", \"\"]\n",
        "assert 2.5 == get_average_word_length(data), \"checking for lists including empty words (ideally impossible)\""
      ],
      "execution_count": null,
      "outputs": []
    },
    {
      "cell_type": "code",
      "metadata": {
        "id": "jdeL72nI7Q5F"
      },
      "source": [
        "data = [\"worda\", \"wordb\", \"wordc\", \"wordd\"]\n",
        "assert 5 == get_average_word_length(data), \"checking for lists in which all words are of equal length\""
      ],
      "execution_count": null,
      "outputs": []
    },
    {
      "cell_type": "markdown",
      "metadata": {
        "id": "d5YopN70s23s"
      },
      "source": [
        "*get_longest_word(words)*"
      ]
    },
    {
      "cell_type": "code",
      "metadata": {
        "id": "hpQbYpW5s23s"
      },
      "source": [
        "data = [\"worda\", \"wordb\", \"wordc\"]\n",
        "assert \"worda\" == get_longest_word(data), \"checking for the tie situation\""
      ],
      "execution_count": null,
      "outputs": []
    },
    {
      "cell_type": "code",
      "metadata": {
        "id": "2awDEtuHyeqk"
      },
      "source": [
        "x = ['aaaaa', 'bb', 'ccc' , 'eeeee']\r\n",
        "assert \"aaaaa\" == get_longest_word(data), \"checking for the tie situation\""
      ],
      "execution_count": null,
      "outputs": []
    },
    {
      "cell_type": "markdown",
      "metadata": {
        "id": "AtnXboRjs23s"
      },
      "source": [
        "*get_longest_words_startswith(words, start)*"
      ]
    },
    {
      "cell_type": "code",
      "metadata": {
        "id": "F0m4TIYfs23t"
      },
      "source": [
        "words = [\"aaaaa\", \"aword\", \"bword\"]\n",
        "start = \"a\"\n",
        "assert \"aaaaa\" == get_longest_words_startswith(words, start), \"checking for the tie situation\""
      ],
      "execution_count": null,
      "outputs": []
    },
    {
      "cell_type": "code",
      "metadata": {
        "id": "KhPme4g86i6B"
      },
      "source": [
        "words = [\"aaaaa\", \"aword\", \"bword\"]\n",
        "start = \"c\"\n",
        "assert \"\" == get_longest_words_startswith(words, start), \"checking for the empty words scenario\""
      ],
      "execution_count": null,
      "outputs": []
    },
    {
      "cell_type": "markdown",
      "metadata": {
        "id": "fMDxDz9vs23t"
      },
      "source": [
        "*get_most_common_start(words)*"
      ]
    },
    {
      "cell_type": "code",
      "metadata": {
        "id": "sDHY0kG0s23u"
      },
      "source": [
        "data = [\"aword\", \"bword\", \"cword\"]\n",
        "assert \"a\" == get_most_common_start(data), \"checking for the tie situation\""
      ],
      "execution_count": null,
      "outputs": []
    },
    {
      "cell_type": "code",
      "metadata": {
        "id": "5XfqIo7zxG6t"
      },
      "source": [
        "data = = ['aa', 'bb', 'ccc', 'ddd' , 'eeee']\r\n",
        "assert \"a\" == get_most_common_start(data),   \"checking condition where every word is made up of the same letters\""
      ],
      "execution_count": null,
      "outputs": []
    },
    {
      "cell_type": "markdown",
      "metadata": {
        "id": "Xeq7uURIs23u"
      },
      "source": [
        "*get_most_common_end(words)*"
      ]
    },
    {
      "cell_type": "code",
      "metadata": {
        "id": "FouZt3jLs23u"
      },
      "source": [
        "data = [\"worda\", \"wordb\", \"wordc\"]\n",
        "assert \"a\" == get_most_common_end(data), \"checking for the tie situation\""
      ],
      "execution_count": null,
      "outputs": []
    },
    {
      "cell_type": "code",
      "metadata": {
        "id": "QGpxfd1fs23u"
      },
      "source": [
        "data = [\"a\", \"worda\", \"wordb\", \"wordbb\"]\n",
        "assert \"a\" == get_most_common_start(data), \"checking if function counts the correct position of each word\""
      ],
      "execution_count": null,
      "outputs": []
    },
    {
      "cell_type": "code",
      "metadata": {
        "id": "ZCq0ug-buTk0"
      },
      "source": [
        "data = = ['a', 'bb', 'ccc', 'ddd' , 'eeee']\r\n",
        "assert \"a\" == get_most_common_end(data),   \"checking condition where every word is made up of the same letters\""
      ],
      "execution_count": null,
      "outputs": []
    },
    {
      "cell_type": "markdown",
      "metadata": {
        "id": "3vt7Rf15s23v"
      },
      "source": [
        "# Question 2 Interval objects\n",
        "Problem: Interval arithmetic\n",
        "Using Python object oriented programming, write a class called Interval that represents a one-dimensional open interval on the real line. This main purpose of this class is to simplify overlapping continuous intervals. The code below should get you started but there are a lot of missing pieces that you will have to figure out.\n",
        "\n",
        "The API should take a pair of integers as input and respond to the + operator such that\n",
        "\n",
        " \n",
        " >>> a = Interval(1,3) \n",
        " >>> b = Interval(2,4) \n",
        " >>> c = Interval(5,10) \n",
        " >>> a + b  \n",
        " Interval(1,4) \n",
        " >>> b+c \n",
        " [ Interval(2,4), Interval(5,10)]\n",
        "Note that in the case of non-overlapping intervals, the output should be a list of constituent Intervals. Keep in mind that these are open intervals. Specifically,\n",
        "\n",
        "\n",
        ">>> Interval(2,3)+Interval(1,2) \n",
        " [Interval(2,3), Interval(1,2)]\n",
        "\n",
        "Note that these do not produce a single interval because each interval is open (not closed). The interval endpoints can be negative also (e.g., Interval(-10,-3) is valid). The output does not have to be sorted.\n",
        "\n",
        "It's up to you to write the dunder functions for your object. If you do this right, you will have a very general solution to this problem.\n",
        "\n",
        "This is where good object-oriented design pays off.\n",
        "\n",
        "Note: Make sure to implement __eq__ method below, to pass all the test cases in the grader.\n",
        "\n",
        "Starter Code:\n",
        "     # fill out the necessary methods shown below and add others if need be.\n",
        "\n",
        "     class Interval(object):\n",
        "         def __init__(self,a,b):\n",
        "             \"\"\"\n",
        "             :a: integer\n",
        "             :b: integer\n",
        "             \"\"\"\n",
        "             assert a<b\n",
        "             assert isinstance(a,int)\n",
        "             assert isinstance(b,int)\n",
        "             self._a = a\n",
        "             self._b = b\n",
        "          def __repr__(self):\n",
        "             pass\n",
        "          def __eq__(self,other):\n",
        "             pass\n",
        "          def __lt__(self,other):\n",
        "             pass\n",
        "          def __gt__(self,other):\n",
        "             pass\n",
        "          def __ge__(self,other):\n",
        "             pass\n",
        "          def __le__(self,other):\n",
        "             pass\n",
        "          def __add__(self,other):\n",
        "             pass"
      ]
    },
    {
      "cell_type": "markdown",
      "metadata": {
        "id": "0jhtLWers23v"
      },
      "source": [
        "**Validation Tests** <br>\n",
        "Check for corner cases and constraints in the inputs enlist all cases used for testing"
      ]
    },
    {
      "cell_type": "code",
      "metadata": {
        "id": "9WgaDh0as23v"
      },
      "source": [
        "assert isinstance(a, int), \"a must be an integer\"\n",
        "assert isinstance(b, int), \"b must be an integer\"\n",
        "assert a < b, \"a must be smaller than b\""
      ],
      "execution_count": null,
      "outputs": []
    },
    {
      "cell_type": "markdown",
      "metadata": {
        "id": "_Hh5uO6Ps23w"
      },
      "source": [
        "**Functional Tests** <br>\n",
        "Check function output matches expected result enlist all cases used for testing"
      ]
    },
    {
      "cell_type": "markdown",
      "metadata": {
        "id": "IRWZEWo7s23w"
      },
      "source": [
        "*\\_\\_repr\\_\\_*"
      ]
    },
    {
      "cell_type": "code",
      "metadata": {
        "id": "9Q9o50YOs23w"
      },
      "source": [
        "a, b = 1, 2\n",
        "assert \"Interval(1,2)\" == Interval(a, b).__repr__(), \"checking for repr format\""
      ],
      "execution_count": null,
      "outputs": []
    },
    {
      "cell_type": "markdown",
      "metadata": {
        "id": "PHObRVJfs23w"
      },
      "source": [
        "*\\_\\_eq\\_\\_*"
      ]
    },
    {
      "cell_type": "code",
      "metadata": {
        "id": "Rrc97ALrs23x"
      },
      "source": [
        "a1, b1, a2, b2 = 1, 2, 1, 2\n",
        "assert Interval(a1, b1) == Interval(a2, b2), \"checking for true equality\""
      ],
      "execution_count": null,
      "outputs": []
    },
    {
      "cell_type": "code",
      "metadata": {
        "id": "roIIG5-Fs23x"
      },
      "source": [
        "a1, b1, a2, b2 = 1, 2, 2, 1\n",
        "assert Interval(a1, b1) != Interval(a2, b2), \"checking for false equality\""
      ],
      "execution_count": null,
      "outputs": []
    },
    {
      "cell_type": "code",
      "metadata": {
        "id": "yrqRiY6p2d7W"
      },
      "source": [
        "a1, b1, a2, b2 = 1, 2, 1, 3\n",
        "assert Interval(a1, b1) != Interval(a2, b2), \"checking for false equality\""
      ],
      "execution_count": null,
      "outputs": []
    },
    {
      "cell_type": "code",
      "metadata": {
        "id": "hkJY7Gtx2m8I"
      },
      "source": [
        "a1, b1, a2, b2 = -1, 3, 1, 3\n",
        "assert Interval(a1, b1) != Interval(a2, b2), \"checking for false equality\""
      ],
      "execution_count": null,
      "outputs": []
    },
    {
      "cell_type": "markdown",
      "metadata": {
        "id": "64o96LC9s23x"
      },
      "source": [
        "*\\_\\_add\\_\\_*"
      ]
    },
    {
      "cell_type": "code",
      "metadata": {
        "id": "WGuZG53Ss23x"
      },
      "source": [
        "a1, b1, a2, b2 = 1, 2, 3, 4\n",
        "assert [Interval(1, 2), Interval(3, 4)] == Interval(a1, b1) + Interval(a2, b2), \\\n",
        "    \"checking for intervals without intersection (case 1: a1 < b1 < a2 < b2)\""
      ],
      "execution_count": null,
      "outputs": []
    },
    {
      "cell_type": "code",
      "metadata": {
        "id": "9WZTzpKws23y"
      },
      "source": [
        "a1, b1, a2, b2 = -4, -3, 1, 2\n",
        "assert [Interval(-4, -3), Interval(1, 2)] == Interval(a1, b1) + Interval(a2, b2), \\\n",
        "    \"checking for intervals without intersection (case 2: a2 < b2 < a1 < b1)\""
      ],
      "execution_count": null,
      "outputs": []
    },
    {
      "cell_type": "code",
      "metadata": {
        "id": "tt7MmsfEs23y"
      },
      "source": [
        "a1, b1, a2, b2 = 1, 3, 2, 4\n",
        "assert Interval(1, 4) == Interval(a1, b1) + Interval(a2, b2), \\\n",
        "    \"checking for intervals with intersection (case 3: a1 < a2 < b1 < b2)\""
      ],
      "execution_count": null,
      "outputs": []
    },
    {
      "cell_type": "code",
      "metadata": {
        "id": "JIeoAAdCs23y"
      },
      "source": [
        "a1, b1, a2, b2 = 1, 4, 2, 3\n",
        "assert Interval(1, 4) == Interval(a1, b1) + Interval(a2, b2), \\\n",
        "    \"checking for intervals with intersection (case 4: a1 < a2 < b2 < b1)\""
      ],
      "execution_count": null,
      "outputs": []
    },
    {
      "cell_type": "code",
      "metadata": {
        "id": "oegp1N2rs23y"
      },
      "source": [
        "a1, b1, a2, b2 = 2, 3, 1, 4\n",
        "assert Interval(1, 4) == Interval(a1, b1) + Interval(a2, b2), \\\n",
        "    \"checking for intervals with intersection (case 5: a2 < a1 < b1 < b2)\""
      ],
      "execution_count": null,
      "outputs": []
    },
    {
      "cell_type": "code",
      "metadata": {
        "id": "NOVS9yYCs23z"
      },
      "source": [
        "a1, b1, a2, b2 = 2, 4, 1, 3\n",
        "assert Interval(1, 4) == Interval(a1, b1) + Interval(a2, b2), \\\n",
        "    \"checking for intervals with intersection (case 6: a2 < a1 < b2 < b1)\""
      ],
      "execution_count": null,
      "outputs": []
    },
    {
      "cell_type": "code",
      "metadata": {
        "id": "DPplFceK3jR4"
      },
      "source": [
        "a1, b1, a2, b2 = -3, -1, -4, -3\n",
        "assert Interval(-4, -1) == Interval(a1, b1) + Interval(a2, b2), \\\n",
        "    \"checking for intervals with intersection (case 7: a2 < b2 < a1 < b1)\""
      ],
      "execution_count": null,
      "outputs": []
    },
    {
      "cell_type": "markdown",
      "metadata": {
        "id": "g3RgpN40s23z"
      },
      "source": [
        "# Question 3 Random slash- no pictures\n",
        "Random Image Slash\n",
        "A 6x6 black-and-white image is represented as a Numpy array x as in the following,\n",
        "\n",
        ">>> import numpy as np\n",
        ">>> x = np.eye(6) \n",
        "Note that this is not a grayscale or color image for which there would be three dimensions (e.g., 6 x 6 x 3). This can easily be visualized using Matplotlib's imshow function, as in the following:\n",
        "\n",
        ">>> from matplotlib.pylab import subplots, cm >>> fig, ax = subplots()  >>> ax.imshow(x,cmap=cm.gray_r)  \n",
        "drawing\n",
        "\n",
        "To debug an image processing algorithm, you have to generate a large number of exemplar training images that consist of such Numpy arrays. Each image should represent a forward or backward leaning (shown above) slash symbol. Each symbol must consist of at least two non-zero pixels and be contiguous (i.e., no gaps). For example, the longest possible slash symbol that is representable in a 6x6 image is the 6 nonzero pixel diagonal image show above (or its opposite leaning forwardslash variant).\n",
        "\n",
        "The assignment is to write a function that can produce a uniformly random forward or backslashed image (i.e., Numpy array) of at least two non-zero pixels. Here is some code that generates the following figure,\n",
        "\n",
        "fig,axs=subplots(3,3,sharex=True,sharey=True)\n",
        " for ax in axs.flatten():\n",
        "     ax.imshow(gen_rand_slash(),cmap=cm.gray_r)\n",
        " \n",
        "\n",
        "drawing\n",
        "\n",
        "Here is the function signature: gen_rand_slash(m=6,n=6,direction='back'). The direction keyword argument can be either back or forward. The m is the number of rows in the image.\n",
        "\n",
        "Note: Don't import matplotlib in your solutions. Only allowed external library is numpy.\n"
      ]
    },
    {
      "cell_type": "markdown",
      "metadata": {
        "id": "7_TuFNcns23z"
      },
      "source": [
        "**Validation Tests** <br>\n",
        "Check for corner cases and constraints in the inputs enlist all cases used for testing"
      ]
    },
    {
      "cell_type": "code",
      "metadata": {
        "id": "rLFyC_7js23z"
      },
      "source": [
        "assert isinstance(m, int), \"m must be an integer\"\n",
        "assert isinstance(n, int), \"n must be an integer\"\n",
        "assert isinstance(direction, str), \"direction must be a string\"\n",
        "assert m > 1 and n > 1, \"m and n must be at least 2\"\n",
        "assert direction == \"back\" or direction == \"forward\", \"direction can only be back or forward\""
      ],
      "execution_count": null,
      "outputs": []
    },
    {
      "cell_type": "code",
      "metadata": {
        "id": "ejTsDD4b57sk"
      },
      "source": [
        "import numpy as np\n",
        "op = gen_rand_slash()\n",
        "assert(isinstance(op, np.ndarray)), \\\n",
        "        \"output must be a numpy array\""
      ],
      "execution_count": null,
      "outputs": []
    },
    {
      "cell_type": "markdown",
      "metadata": {
        "id": "Ehqi8O80s230"
      },
      "source": [
        "**Functional Tests** <br>\n",
        "Check function output matches expected result enlist all cases used for testing"
      ]
    },
    {
      "cell_type": "code",
      "metadata": {
        "id": "NY4wU9OQs230"
      },
      "source": [
        "import numpy as np\n",
        "def count_slash_area(slash):\n",
        "    \"\"\"Counts the black area of slash which is marked as 1\"\"\"\n",
        "    return len(np.where(slash > 0)[0])"
      ],
      "execution_count": null,
      "outputs": []
    },
    {
      "cell_type": "code",
      "metadata": {
        "id": "Y6T6tmbLs230"
      },
      "source": [
        "# get 100 random slashes in back direction\n",
        "data = [gen_rand_slash(6, 8) for i in range(100)]\n",
        "assert all(2 <= count_slash_area(slash) <= 6 for slash in data), \\\n",
        "    \"slash area must be at least 2 and not more than the length of the shorter side (case 1: back direction and m < n)\""
      ],
      "execution_count": null,
      "outputs": []
    },
    {
      "cell_type": "code",
      "metadata": {
        "id": "mw6MKLKws230"
      },
      "source": [
        "# get 100 random slashes in back direction\n",
        "data = [gen_rand_slash(8, 6) for i in range(100)]\n",
        "assert all(2 <= count_slash_area(slash) <= 6 for slash in data), \\\n",
        "    \"slash area must be at least 2 and not more than the length of the shorter side (case 2: back direction and m > n)\""
      ],
      "execution_count": null,
      "outputs": []
    },
    {
      "cell_type": "code",
      "metadata": {
        "id": "3NgbHT4ks231"
      },
      "source": [
        "# get 100 random slashes in forward direction\n",
        "data = [gen_rand_slash(6, 8, \"forward\") for i in range(100)]\n",
        "assert all(2 <= count_slash_area(slash) <= 6 for slash in data), \\\n",
        "    \"slash area must be at least 2 and not more than the length of the shorter side (case 3: forward direction and m < n)\""
      ],
      "execution_count": null,
      "outputs": []
    },
    {
      "cell_type": "code",
      "metadata": {
        "id": "LX_KKL3ss231"
      },
      "source": [
        "# get 100 random slashes in forward direction\n",
        "data = [gen_rand_slash(8, 6, \"forward\") for i in range(100)]\n",
        "assert all(2 <= count_slash_area(slash) <= 6 for slash in data), \\\n",
        "    \"slash area must be at least 2 and not more than the length of the shorter side (case 4: forward direction and m > n)\""
      ],
      "execution_count": null,
      "outputs": []
    },
    {
      "cell_type": "code",
      "metadata": {
        "id": "OxrZKmAgc2yL"
      },
      "source": [
        "def check_if_contiguous(arr, mode):\r\n",
        "    \"\"\"\r\n",
        "    Takes as input array produced by gen_rand_slash() and verifies if all 1's are contiguous diagonal elements.\r\n",
        "    :param arr: numpy array with 1's\r\n",
        "    :type arr: numpy array\r\n",
        "    :param mode: string indicating forward or backward\r\n",
        "    :type mode: str\r\n",
        "\r\n",
        "    returns True if no assertion error\r\n",
        "\r\n",
        "    Author: Chaitanya\r\n",
        "    \"\"\"\r\n",
        "    \r\n",
        "    import numpy as np\r\n",
        "    \r\n",
        "    assert(isinstance(arr, np.ndarray))\r\n",
        "    assert(isinstance(mode, str) and (mode == 'forward' or mode == 'back'))\r\n",
        "    \r\n",
        "    indices_of_1 = np.where(arr)\r\n",
        "    \r\n",
        "    if(mode == 'forward'):\r\n",
        "        all_true_ideally =  (indices_of_1[0]-indices_of_1[1]==(indices_of_1[0][0]-indices_of_1[1][0]))\r\n",
        "        for i in all_true_ideally:\r\n",
        "            assert(i == True)\r\n",
        "    else:\r\n",
        "        all_true_ideally = (indices_of_1[0]+indices_of_1[1]==(indices_of_1[0][0]+indices_of_1[1][0]))\r\n",
        "        for i in all_true_ideally:\r\n",
        "            assert(i == True)\r\n",
        "    return True"
      ],
      "execution_count": null,
      "outputs": []
    },
    {
      "cell_type": "code",
      "metadata": {
        "colab": {
          "base_uri": "https://localhost:8080/",
          "height": 279
        },
        "id": "SBlb6nwDPrf1",
        "outputId": "ed88c6c7-6992-4da3-f741-9b6ee800796a"
      },
      "source": [
        "# slash area must be contiguous\r\n",
        "mode = \"forward\"\r\n",
        "data = [gen_rand_slash(8, 6, mode) for i in range(100)]\r\n",
        "for i in data:\r\n",
        "  assert(check_if_contiguous(arr, mode)), \\\r\n",
        "      \"1's in numpy array not contiguous\""
      ],
      "execution_count": null,
      "outputs": [
        {
          "output_type": "error",
          "ename": "NameError",
          "evalue": "ignored",
          "traceback": [
            "\u001b[0;31m---------------------------------------------------------------------------\u001b[0m",
            "\u001b[0;31mNameError\u001b[0m                                 Traceback (most recent call last)",
            "\u001b[0;32m<ipython-input-1-282af6c704ed>\u001b[0m in \u001b[0;36m<module>\u001b[0;34m()\u001b[0m\n\u001b[1;32m      1\u001b[0m \u001b[0;31m# slash area must be contiguous\u001b[0m\u001b[0;34m\u001b[0m\u001b[0;34m\u001b[0m\u001b[0;34m\u001b[0m\u001b[0m\n\u001b[0;32m----> 2\u001b[0;31m \u001b[0mdata\u001b[0m \u001b[0;34m=\u001b[0m \u001b[0;34m[\u001b[0m\u001b[0mgen_rand_slash\u001b[0m\u001b[0;34m(\u001b[0m\u001b[0;36m8\u001b[0m\u001b[0;34m,\u001b[0m \u001b[0;36m6\u001b[0m\u001b[0;34m,\u001b[0m \u001b[0;34m\"forward\"\u001b[0m\u001b[0;34m)\u001b[0m \u001b[0;32mfor\u001b[0m \u001b[0mi\u001b[0m \u001b[0;32min\u001b[0m \u001b[0mrange\u001b[0m\u001b[0;34m(\u001b[0m\u001b[0;36m100\u001b[0m\u001b[0;34m)\u001b[0m\u001b[0;34m]\u001b[0m\u001b[0;34m\u001b[0m\u001b[0;34m\u001b[0m\u001b[0m\n\u001b[0m\u001b[1;32m      3\u001b[0m \u001b[0mdata\u001b[0m\u001b[0;34m[\u001b[0m\u001b[0;36m0\u001b[0m\u001b[0;34m]\u001b[0m\u001b[0;34m\u001b[0m\u001b[0;34m\u001b[0m\u001b[0m\n",
            "\u001b[0;32m<ipython-input-1-282af6c704ed>\u001b[0m in \u001b[0;36m<listcomp>\u001b[0;34m(.0)\u001b[0m\n\u001b[1;32m      1\u001b[0m \u001b[0;31m# slash area must be contiguous\u001b[0m\u001b[0;34m\u001b[0m\u001b[0;34m\u001b[0m\u001b[0;34m\u001b[0m\u001b[0m\n\u001b[0;32m----> 2\u001b[0;31m \u001b[0mdata\u001b[0m \u001b[0;34m=\u001b[0m \u001b[0;34m[\u001b[0m\u001b[0mgen_rand_slash\u001b[0m\u001b[0;34m(\u001b[0m\u001b[0;36m8\u001b[0m\u001b[0;34m,\u001b[0m \u001b[0;36m6\u001b[0m\u001b[0;34m,\u001b[0m \u001b[0;34m\"forward\"\u001b[0m\u001b[0;34m)\u001b[0m \u001b[0;32mfor\u001b[0m \u001b[0mi\u001b[0m \u001b[0;32min\u001b[0m \u001b[0mrange\u001b[0m\u001b[0;34m(\u001b[0m\u001b[0;36m100\u001b[0m\u001b[0;34m)\u001b[0m\u001b[0;34m]\u001b[0m\u001b[0;34m\u001b[0m\u001b[0;34m\u001b[0m\u001b[0m\n\u001b[0m\u001b[1;32m      3\u001b[0m \u001b[0mdata\u001b[0m\u001b[0;34m[\u001b[0m\u001b[0;36m0\u001b[0m\u001b[0;34m]\u001b[0m\u001b[0;34m\u001b[0m\u001b[0;34m\u001b[0m\u001b[0m\n",
            "\u001b[0;31mNameError\u001b[0m: name 'gen_rand_slash' is not defined"
          ]
        }
      ]
    },
    {
      "cell_type": "code",
      "metadata": {
        "id": "17IIANVkTdEc"
      },
      "source": [
        ""
      ],
      "execution_count": null,
      "outputs": []
    }
  ]
}