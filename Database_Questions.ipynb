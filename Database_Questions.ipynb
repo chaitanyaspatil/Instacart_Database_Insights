{
 "metadata": {
  "language_info": {
   "codemirror_mode": {
    "name": "ipython",
    "version": 3
   },
   "file_extension": ".py",
   "mimetype": "text/x-python",
   "name": "python",
   "nbconvert_exporter": "python",
   "pygments_lexer": "ipython3",
   "version": "3.8.8-final"
  },
  "orig_nbformat": 2,
  "kernelspec": {
   "name": "python3",
   "display_name": "Python 3.8.8 64-bit",
   "metadata": {
    "interpreter": {
     "hash": "20cd7ca7382ac2c55fe10d67040580c34b0879dd9d0da9802b97c51499a7b7c3"
    }
   }
  }
 },
 "nbformat": 4,
 "nbformat_minor": 2,
 "cells": [
  {
   "source": [
    "### In this notebook we will compile interesting questions that we can answer using the data from this table.\n",
    "### We can refer to data_exploration.ipynb to figure out what kind of information we already have."
   ],
   "cell_type": "markdown",
   "metadata": {}
  },
  {
   "source": [
    "1. On an average, how often do people order from Instacart?\n",
    "2. What product was ordered most often?\n",
    "3. At what time during the day do people order most? Can we have a plot for how busy different times during the day are?\n",
    "4. How often do people order ice-cream? How often do they order alcohol?\n",
    "5. If we classify all food-related orders under food groups (dairy, vegetables, protein) - what groups are represented more than others in terms of number of items?\n",
    "6. What kind of alcohol is most popular? lol\n",
    "7. What aisles are the most popular? Can we draw any conclusions about eating habits based on this?\n",
    "8. What is usually the first item people put into their cart?\n"
    "9. What product was reordered more often?"
   ],
   "cell_type": "markdown",
   "metadata": {}
  },
  {
   "source": [
    "### Q1. On an average, how often do people order from Instacart?"
   ],
   "cell_type": "markdown",
   "metadata": {}
  },
  {
   "cell_type": "code",
   "execution_count": 2,
   "metadata": {},
   "outputs": [],
   "source": [
    "import pandas as pd \n",
    "import numpy as np \n",
    "import matplotlib.pyplot as plt "
   ]
  },
  {
   "cell_type": "code",
   "execution_count": 3,
   "metadata": {},
   "outputs": [],
   "source": [
    "orders = pd.read_csv('./instacart-market-basket-analysis/orders.csv')"
   ]
  },
  {
   "cell_type": "code",
   "execution_count": 4,
   "metadata": {},
   "outputs": [
    {
     "output_type": "execute_result",
     "data": {
      "text/plain": [
       "         order_id  user_id eval_set  order_number  order_dow  \\\n",
       "0         2539329        1    prior             1          2   \n",
       "1         2398795        1    prior             2          3   \n",
       "2          473747        1    prior             3          3   \n",
       "3         2254736        1    prior             4          4   \n",
       "4          431534        1    prior             5          4   \n",
       "...           ...      ...      ...           ...        ...   \n",
       "3421078   2266710   206209    prior            10          5   \n",
       "3421079   1854736   206209    prior            11          4   \n",
       "3421080    626363   206209    prior            12          1   \n",
       "3421081   2977660   206209    prior            13          1   \n",
       "3421082    272231   206209    train            14          6   \n",
       "\n",
       "         order_hour_of_day  days_since_prior_order  \n",
       "0                        8                     NaN  \n",
       "1                        7                    15.0  \n",
       "2                       12                    21.0  \n",
       "3                        7                    29.0  \n",
       "4                       15                    28.0  \n",
       "...                    ...                     ...  \n",
       "3421078                 18                    29.0  \n",
       "3421079                 10                    30.0  \n",
       "3421080                 12                    18.0  \n",
       "3421081                 12                     7.0  \n",
       "3421082                 14                    30.0  \n",
       "\n",
       "[3421083 rows x 7 columns]"
      ],
      "text/html": "<div>\n<style scoped>\n    .dataframe tbody tr th:only-of-type {\n        vertical-align: middle;\n    }\n\n    .dataframe tbody tr th {\n        vertical-align: top;\n    }\n\n    .dataframe thead th {\n        text-align: right;\n    }\n</style>\n<table border=\"1\" class=\"dataframe\">\n  <thead>\n    <tr style=\"text-align: right;\">\n      <th></th>\n      <th>order_id</th>\n      <th>user_id</th>\n      <th>eval_set</th>\n      <th>order_number</th>\n      <th>order_dow</th>\n      <th>order_hour_of_day</th>\n      <th>days_since_prior_order</th>\n    </tr>\n  </thead>\n  <tbody>\n    <tr>\n      <th>0</th>\n      <td>2539329</td>\n      <td>1</td>\n      <td>prior</td>\n      <td>1</td>\n      <td>2</td>\n      <td>8</td>\n      <td>NaN</td>\n    </tr>\n    <tr>\n      <th>1</th>\n      <td>2398795</td>\n      <td>1</td>\n      <td>prior</td>\n      <td>2</td>\n      <td>3</td>\n      <td>7</td>\n      <td>15.0</td>\n    </tr>\n    <tr>\n      <th>2</th>\n      <td>473747</td>\n      <td>1</td>\n      <td>prior</td>\n      <td>3</td>\n      <td>3</td>\n      <td>12</td>\n      <td>21.0</td>\n    </tr>\n    <tr>\n      <th>3</th>\n      <td>2254736</td>\n      <td>1</td>\n      <td>prior</td>\n      <td>4</td>\n      <td>4</td>\n      <td>7</td>\n      <td>29.0</td>\n    </tr>\n    <tr>\n      <th>4</th>\n      <td>431534</td>\n      <td>1</td>\n      <td>prior</td>\n      <td>5</td>\n      <td>4</td>\n      <td>15</td>\n      <td>28.0</td>\n    </tr>\n    <tr>\n      <th>...</th>\n      <td>...</td>\n      <td>...</td>\n      <td>...</td>\n      <td>...</td>\n      <td>...</td>\n      <td>...</td>\n      <td>...</td>\n    </tr>\n    <tr>\n      <th>3421078</th>\n      <td>2266710</td>\n      <td>206209</td>\n      <td>prior</td>\n      <td>10</td>\n      <td>5</td>\n      <td>18</td>\n      <td>29.0</td>\n    </tr>\n    <tr>\n      <th>3421079</th>\n      <td>1854736</td>\n      <td>206209</td>\n      <td>prior</td>\n      <td>11</td>\n      <td>4</td>\n      <td>10</td>\n      <td>30.0</td>\n    </tr>\n    <tr>\n      <th>3421080</th>\n      <td>626363</td>\n      <td>206209</td>\n      <td>prior</td>\n      <td>12</td>\n      <td>1</td>\n      <td>12</td>\n      <td>18.0</td>\n    </tr>\n    <tr>\n      <th>3421081</th>\n      <td>2977660</td>\n      <td>206209</td>\n      <td>prior</td>\n      <td>13</td>\n      <td>1</td>\n      <td>12</td>\n      <td>7.0</td>\n    </tr>\n    <tr>\n      <th>3421082</th>\n      <td>272231</td>\n      <td>206209</td>\n      <td>train</td>\n      <td>14</td>\n      <td>6</td>\n      <td>14</td>\n      <td>30.0</td>\n    </tr>\n  </tbody>\n</table>\n<p>3421083 rows × 7 columns</p>\n</div>"
     },
     "metadata": {},
     "execution_count": 4
    }
   ],
   "source": [
    "orders"
   ]
  },
  {
   "cell_type": "code",
   "execution_count": 8,
   "metadata": {},
   "outputs": [
    {
     "output_type": "stream",
     "name": "stdout",
     "text": [
      "On an average, people order once every  11.114836226863012 days\n"
     ]
    }
   ],
   "source": [
    "# plan: take the average of the row days_since_prior_order, but don't include NaNs.\n",
    "# pandas ignores NaNs while taking average, so we only need to call the average method on the series.\n",
    "\n",
    "print('On an average, people order once every ', orders['days_since_prior_order'].mean(), 'days')"
   ]
  },
  {
   "source": [
    "### Q2. What product was ordered most often?"
   ],
   "cell_type": "markdown",
   "metadata": {}
  },
  {
   "cell_type": "code",
   "execution_count": 10,
   "metadata": {},
   "outputs": [],
   "source": [
    "# plan - we use two tables: order_products__train.csv and order_products__prior.csv. We assume these have different values, and we check if they are the same. Best to check the kaggle dataset for any hints as to what these files have.\n",
    "\n",
    "# for simplicity, we take just one file for this question - prior.\n",
    "\n",
    "order_products_prior = pd.read_csv('./instacart-market-basket-analysis/order_products__prior.csv')"
   ]
  },
  {
   "cell_type": "code",
   "execution_count": 11,
   "metadata": {},
   "outputs": [
    {
     "output_type": "execute_result",
     "data": {
      "text/plain": [
       "          order_id  product_id  add_to_cart_order  reordered\n",
       "0                2       33120                  1          1\n",
       "1                2       28985                  2          1\n",
       "2                2        9327                  3          0\n",
       "3                2       45918                  4          1\n",
       "4                2       30035                  5          0\n",
       "...            ...         ...                ...        ...\n",
       "32434484   3421083       39678                  6          1\n",
       "32434485   3421083       11352                  7          0\n",
       "32434486   3421083        4600                  8          0\n",
       "32434487   3421083       24852                  9          1\n",
       "32434488   3421083        5020                 10          1\n",
       "\n",
       "[32434489 rows x 4 columns]"
      ],
      "text/html": "<div>\n<style scoped>\n    .dataframe tbody tr th:only-of-type {\n        vertical-align: middle;\n    }\n\n    .dataframe tbody tr th {\n        vertical-align: top;\n    }\n\n    .dataframe thead th {\n        text-align: right;\n    }\n</style>\n<table border=\"1\" class=\"dataframe\">\n  <thead>\n    <tr style=\"text-align: right;\">\n      <th></th>\n      <th>order_id</th>\n      <th>product_id</th>\n      <th>add_to_cart_order</th>\n      <th>reordered</th>\n    </tr>\n  </thead>\n  <tbody>\n    <tr>\n      <th>0</th>\n      <td>2</td>\n      <td>33120</td>\n      <td>1</td>\n      <td>1</td>\n    </tr>\n    <tr>\n      <th>1</th>\n      <td>2</td>\n      <td>28985</td>\n      <td>2</td>\n      <td>1</td>\n    </tr>\n    <tr>\n      <th>2</th>\n      <td>2</td>\n      <td>9327</td>\n      <td>3</td>\n      <td>0</td>\n    </tr>\n    <tr>\n      <th>3</th>\n      <td>2</td>\n      <td>45918</td>\n      <td>4</td>\n      <td>1</td>\n    </tr>\n    <tr>\n      <th>4</th>\n      <td>2</td>\n      <td>30035</td>\n      <td>5</td>\n      <td>0</td>\n    </tr>\n    <tr>\n      <th>...</th>\n      <td>...</td>\n      <td>...</td>\n      <td>...</td>\n      <td>...</td>\n    </tr>\n    <tr>\n      <th>32434484</th>\n      <td>3421083</td>\n      <td>39678</td>\n      <td>6</td>\n      <td>1</td>\n    </tr>\n    <tr>\n      <th>32434485</th>\n      <td>3421083</td>\n      <td>11352</td>\n      <td>7</td>\n      <td>0</td>\n    </tr>\n    <tr>\n      <th>32434486</th>\n      <td>3421083</td>\n      <td>4600</td>\n      <td>8</td>\n      <td>0</td>\n    </tr>\n    <tr>\n      <th>32434487</th>\n      <td>3421083</td>\n      <td>24852</td>\n      <td>9</td>\n      <td>1</td>\n    </tr>\n    <tr>\n      <th>32434488</th>\n      <td>3421083</td>\n      <td>5020</td>\n      <td>10</td>\n      <td>1</td>\n    </tr>\n  </tbody>\n</table>\n<p>32434489 rows × 4 columns</p>\n</div>"
     },
     "metadata": {},
     "execution_count": 11
    }
   ],
   "source": [
    "# the table looks like so:\n",
    "order_products_prior"
   ]
  },
  {
   "cell_type": "code",
   "execution_count": 18,
   "metadata": {},
   "outputs": [],
   "source": [
    "products = pd.read_csv('./instacart-market-basket-analysis/products.csv')"
   ]
  },
  {
   "cell_type": "code",
   "execution_count": 28,
   "metadata": {},
   "outputs": [],
   "source": [
    "# for each order, we want each product to be considered only once in our calculations. So we should remove duplicates of the same order_id and product_id for this question.\n",
    "\n",
    "df = order_products_prior.drop_duplicates(subset=['order_id', 'product_id'])\n",
    "\n",
    "df_with_product_description = df.merge(products, on = 'product_id', how='inner')"
   ]
  },
  {
   "cell_type": "code",
   "execution_count": 29,
   "metadata": {},
   "outputs": [
    {
     "output_type": "execute_result",
     "data": {
      "text/plain": [
       "          order_id  product_id  add_to_cart_order  reordered  \\\n",
       "0                2       33120                  1          1   \n",
       "1               26       33120                  5          0   \n",
       "2              120       33120                 13          0   \n",
       "3              327       33120                  5          1   \n",
       "4              390       33120                 28          1   \n",
       "...            ...         ...                ...        ...   \n",
       "32434484   3265099       43492                  3          0   \n",
       "32434485   3361945       43492                 19          0   \n",
       "32434486   3267201       33097                  2          0   \n",
       "32434487   3393151       38977                 32          0   \n",
       "32434488   3400803       23624                  7          0   \n",
       "\n",
       "                            product_name  aisle_id  department_id  \n",
       "0                     Organic Egg Whites        86             16  \n",
       "1                     Organic Egg Whites        86             16  \n",
       "2                     Organic Egg Whites        86             16  \n",
       "3                     Organic Egg Whites        86             16  \n",
       "4                     Organic Egg Whites        86             16  \n",
       "...                                  ...       ...            ...  \n",
       "32434484        Gourmet Burger Seasoning       104             13  \n",
       "32434485        Gourmet Burger Seasoning       104             13  \n",
       "32434486  Piquillo & Jalapeno Bruschetta        81             15  \n",
       "32434487                  Original Jerky       100             21  \n",
       "32434488     Flatbread Pizza All Natural        79              1  \n",
       "\n",
       "[32434489 rows x 7 columns]"
      ],
      "text/html": "<div>\n<style scoped>\n    .dataframe tbody tr th:only-of-type {\n        vertical-align: middle;\n    }\n\n    .dataframe tbody tr th {\n        vertical-align: top;\n    }\n\n    .dataframe thead th {\n        text-align: right;\n    }\n</style>\n<table border=\"1\" class=\"dataframe\">\n  <thead>\n    <tr style=\"text-align: right;\">\n      <th></th>\n      <th>order_id</th>\n      <th>product_id</th>\n      <th>add_to_cart_order</th>\n      <th>reordered</th>\n      <th>product_name</th>\n      <th>aisle_id</th>\n      <th>department_id</th>\n    </tr>\n  </thead>\n  <tbody>\n    <tr>\n      <th>0</th>\n      <td>2</td>\n      <td>33120</td>\n      <td>1</td>\n      <td>1</td>\n      <td>Organic Egg Whites</td>\n      <td>86</td>\n      <td>16</td>\n    </tr>\n    <tr>\n      <th>1</th>\n      <td>26</td>\n      <td>33120</td>\n      <td>5</td>\n      <td>0</td>\n      <td>Organic Egg Whites</td>\n      <td>86</td>\n      <td>16</td>\n    </tr>\n    <tr>\n      <th>2</th>\n      <td>120</td>\n      <td>33120</td>\n      <td>13</td>\n      <td>0</td>\n      <td>Organic Egg Whites</td>\n      <td>86</td>\n      <td>16</td>\n    </tr>\n    <tr>\n      <th>3</th>\n      <td>327</td>\n      <td>33120</td>\n      <td>5</td>\n      <td>1</td>\n      <td>Organic Egg Whites</td>\n      <td>86</td>\n      <td>16</td>\n    </tr>\n    <tr>\n      <th>4</th>\n      <td>390</td>\n      <td>33120</td>\n      <td>28</td>\n      <td>1</td>\n      <td>Organic Egg Whites</td>\n      <td>86</td>\n      <td>16</td>\n    </tr>\n    <tr>\n      <th>...</th>\n      <td>...</td>\n      <td>...</td>\n      <td>...</td>\n      <td>...</td>\n      <td>...</td>\n      <td>...</td>\n      <td>...</td>\n    </tr>\n    <tr>\n      <th>32434484</th>\n      <td>3265099</td>\n      <td>43492</td>\n      <td>3</td>\n      <td>0</td>\n      <td>Gourmet Burger Seasoning</td>\n      <td>104</td>\n      <td>13</td>\n    </tr>\n    <tr>\n      <th>32434485</th>\n      <td>3361945</td>\n      <td>43492</td>\n      <td>19</td>\n      <td>0</td>\n      <td>Gourmet Burger Seasoning</td>\n      <td>104</td>\n      <td>13</td>\n    </tr>\n    <tr>\n      <th>32434486</th>\n      <td>3267201</td>\n      <td>33097</td>\n      <td>2</td>\n      <td>0</td>\n      <td>Piquillo &amp; Jalapeno Bruschetta</td>\n      <td>81</td>\n      <td>15</td>\n    </tr>\n    <tr>\n      <th>32434487</th>\n      <td>3393151</td>\n      <td>38977</td>\n      <td>32</td>\n      <td>0</td>\n      <td>Original Jerky</td>\n      <td>100</td>\n      <td>21</td>\n    </tr>\n    <tr>\n      <th>32434488</th>\n      <td>3400803</td>\n      <td>23624</td>\n      <td>7</td>\n      <td>0</td>\n      <td>Flatbread Pizza All Natural</td>\n      <td>79</td>\n      <td>1</td>\n    </tr>\n  </tbody>\n</table>\n<p>32434489 rows × 7 columns</p>\n</div>"
     },
     "metadata": {},
     "execution_count": 29
    }
   ],
   "source": [
    "df_with_product_description"
   ]
  },
  {
   "cell_type": "code",
   "execution_count": 34,
   "metadata": {},
   "outputs": [
    {
     "output_type": "execute_result",
     "data": {
      "text/plain": [
       "                                                    order_id  product_id  \\\n",
       "product_name                                                               \n",
       "Banana                                                472565      472565   \n",
       "Bag of Organic Bananas                                379450      379450   \n",
       "Organic Strawberries                                  264683      264683   \n",
       "Organic Baby Spinach                                  241921      241921   \n",
       "Organic Hass Avocado                                  213584      213584   \n",
       "...                                                      ...         ...   \n",
       "Pure Performance Restorative Shampoo Chamomile ...         1           1   \n",
       "Lindor Peppermint White Chocolate Truffles                 1           1   \n",
       "Dynostix Rawhide Chew With Meat                            1           1   \n",
       "Max White With Polishing Star Soft Toothbrush              1           1   \n",
       "Cajun Sides Dirty Rice                                     1           1   \n",
       "\n",
       "                                                    add_to_cart_order  \\\n",
       "product_name                                                            \n",
       "Banana                                                         472565   \n",
       "Bag of Organic Bananas                                         379450   \n",
       "Organic Strawberries                                           264683   \n",
       "Organic Baby Spinach                                           241921   \n",
       "Organic Hass Avocado                                           213584   \n",
       "...                                                               ...   \n",
       "Pure Performance Restorative Shampoo Chamomile ...                  1   \n",
       "Lindor Peppermint White Chocolate Truffles                          1   \n",
       "Dynostix Rawhide Chew With Meat                                     1   \n",
       "Max White With Polishing Star Soft Toothbrush                       1   \n",
       "Cajun Sides Dirty Rice                                              1   \n",
       "\n",
       "                                                    reordered  aisle_id  \\\n",
       "product_name                                                              \n",
       "Banana                                                 472565    472565   \n",
       "Bag of Organic Bananas                                 379450    379450   \n",
       "Organic Strawberries                                   264683    264683   \n",
       "Organic Baby Spinach                                   241921    241921   \n",
       "Organic Hass Avocado                                   213584    213584   \n",
       "...                                                       ...       ...   \n",
       "Pure Performance Restorative Shampoo Chamomile ...          1         1   \n",
       "Lindor Peppermint White Chocolate Truffles                  1         1   \n",
       "Dynostix Rawhide Chew With Meat                             1         1   \n",
       "Max White With Polishing Star Soft Toothbrush               1         1   \n",
       "Cajun Sides Dirty Rice                                      1         1   \n",
       "\n",
       "                                                    department_id  \n",
       "product_name                                                       \n",
       "Banana                                                     472565  \n",
       "Bag of Organic Bananas                                     379450  \n",
       "Organic Strawberries                                       264683  \n",
       "Organic Baby Spinach                                       241921  \n",
       "Organic Hass Avocado                                       213584  \n",
       "...                                                           ...  \n",
       "Pure Performance Restorative Shampoo Chamomile ...              1  \n",
       "Lindor Peppermint White Chocolate Truffles                      1  \n",
       "Dynostix Rawhide Chew With Meat                                 1  \n",
       "Max White With Polishing Star Soft Toothbrush                   1  \n",
       "Cajun Sides Dirty Rice                                          1  \n",
       "\n",
       "[49677 rows x 6 columns]"
      ],
      "text/html": "<div>\n<style scoped>\n    .dataframe tbody tr th:only-of-type {\n        vertical-align: middle;\n    }\n\n    .dataframe tbody tr th {\n        vertical-align: top;\n    }\n\n    .dataframe thead th {\n        text-align: right;\n    }\n</style>\n<table border=\"1\" class=\"dataframe\">\n  <thead>\n    <tr style=\"text-align: right;\">\n      <th></th>\n      <th>order_id</th>\n      <th>product_id</th>\n      <th>add_to_cart_order</th>\n      <th>reordered</th>\n      <th>aisle_id</th>\n      <th>department_id</th>\n    </tr>\n    <tr>\n      <th>product_name</th>\n      <th></th>\n      <th></th>\n      <th></th>\n      <th></th>\n      <th></th>\n      <th></th>\n    </tr>\n  </thead>\n  <tbody>\n    <tr>\n      <th>Banana</th>\n      <td>472565</td>\n      <td>472565</td>\n      <td>472565</td>\n      <td>472565</td>\n      <td>472565</td>\n      <td>472565</td>\n    </tr>\n    <tr>\n      <th>Bag of Organic Bananas</th>\n      <td>379450</td>\n      <td>379450</td>\n      <td>379450</td>\n      <td>379450</td>\n      <td>379450</td>\n      <td>379450</td>\n    </tr>\n    <tr>\n      <th>Organic Strawberries</th>\n      <td>264683</td>\n      <td>264683</td>\n      <td>264683</td>\n      <td>264683</td>\n      <td>264683</td>\n      <td>264683</td>\n    </tr>\n    <tr>\n      <th>Organic Baby Spinach</th>\n      <td>241921</td>\n      <td>241921</td>\n      <td>241921</td>\n      <td>241921</td>\n      <td>241921</td>\n      <td>241921</td>\n    </tr>\n    <tr>\n      <th>Organic Hass Avocado</th>\n      <td>213584</td>\n      <td>213584</td>\n      <td>213584</td>\n      <td>213584</td>\n      <td>213584</td>\n      <td>213584</td>\n    </tr>\n    <tr>\n      <th>...</th>\n      <td>...</td>\n      <td>...</td>\n      <td>...</td>\n      <td>...</td>\n      <td>...</td>\n      <td>...</td>\n    </tr>\n    <tr>\n      <th>Pure Performance Restorative Shampoo Chamomile &amp; Honey</th>\n      <td>1</td>\n      <td>1</td>\n      <td>1</td>\n      <td>1</td>\n      <td>1</td>\n      <td>1</td>\n    </tr>\n    <tr>\n      <th>Lindor Peppermint White Chocolate Truffles</th>\n      <td>1</td>\n      <td>1</td>\n      <td>1</td>\n      <td>1</td>\n      <td>1</td>\n      <td>1</td>\n    </tr>\n    <tr>\n      <th>Dynostix Rawhide Chew With Meat</th>\n      <td>1</td>\n      <td>1</td>\n      <td>1</td>\n      <td>1</td>\n      <td>1</td>\n      <td>1</td>\n    </tr>\n    <tr>\n      <th>Max White With Polishing Star Soft Toothbrush</th>\n      <td>1</td>\n      <td>1</td>\n      <td>1</td>\n      <td>1</td>\n      <td>1</td>\n      <td>1</td>\n    </tr>\n    <tr>\n      <th>Cajun Sides Dirty Rice</th>\n      <td>1</td>\n      <td>1</td>\n      <td>1</td>\n      <td>1</td>\n      <td>1</td>\n      <td>1</td>\n    </tr>\n  </tbody>\n</table>\n<p>49677 rows × 6 columns</p>\n</div>"
     },
     "metadata": {},
     "execution_count": 34
    }
   ],
   "source": [
    "# now if we group by product_id and show count along with product_id, that should be quite interesting\n",
    "# but product_id tells us nothing, so best to also join the result to products table.\n",
    "df_with_product_description.groupby(['product_name']).count().sort_values(by = 'order_id', ascending=False)"
   ]
  },
  {
   "cell_type": "code",
   "execution_count": 35,
   "metadata": {},
   "outputs": [
    {
     "output_type": "stream",
     "name": "stdout",
     "text": [
      "Bananas were ordered most often, followed Strawberries, Baby Spinach, and Avocados\n"
     ]
    }
   ],
   "source": [
    "print('Bananas were ordered most often, followed Strawberries, Baby Spinach, and Avocados')"
   ]
  },
  {
   "cell_type": "code",
   "execution_count": null,
   "metadata": {},
   "outputs": [],
   "source": []
  }
 ]
}
