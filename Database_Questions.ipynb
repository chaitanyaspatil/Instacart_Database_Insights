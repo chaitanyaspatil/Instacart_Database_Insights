{
 "metadata": {
  "language_info": {
   "codemirror_mode": {
    "name": "ipython",
    "version": 3
   },
   "file_extension": ".py",
   "mimetype": "text/x-python",
   "name": "python",
   "nbconvert_exporter": "python",
   "pygments_lexer": "ipython3",
   "version": 3
  },
  "orig_nbformat": 2
 },
 "nbformat": 4,
 "nbformat_minor": 2,
 "cells": [
  {
   "source": [
    "### In this notebook we will compile interesting questions that we can answer using the data from this table.\n",
    "### We can refer to data_exploration.ipynb to figure out what kind of information we already have."
   ],
   "cell_type": "markdown",
   "metadata": {}
  },
  {
   "source": [
    "1. On an average, how often do people order from Instacart?\n",
    "2. What product was ordered most often?\n",
    "3. At what time during the day do people order most? Can we have a plot for how busy different times during the day are?\n",
    "4. How often do people order ice-cream? How often do they order alcohol?\n",
    "5. If we classify all food-related orders under food groups (dairy, vegetables, protein) - what groups are represented more than others in terms of number of items?\n",
    "6. What kind of alcohol is most popular? lol\n",
    "7. What aisles are the most popular? Can we draw any conclusions about eating habits based on this?\n",
    "8. What is usually the first item people put into their cart?"
   ],
   "cell_type": "markdown",
   "metadata": {}
  },
  {
   "cell_type": "code",
   "execution_count": null,
   "metadata": {},
   "outputs": [],
   "source": []
  }
 ]
}