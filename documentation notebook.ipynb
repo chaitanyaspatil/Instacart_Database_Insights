{
 "cells": [
  {
   "cell_type": "code",
   "execution_count": null,
   "id": "cardiovascular-adventure",
   "metadata": {},
   "outputs": [],
   "source": [
    "import analysis\n",
    "analysis.meanOrderFrequency('./instacart-market-basket-analysis')"
   ]
  },
  {
   "cell_type": "code",
   "execution_count": null,
   "id": "dirty-width",
   "metadata": {},
   "outputs": [],
   "source": [
    "analysis.numOrdersVsDays('./instacart-market-basket-analysis')"
   ]
  },
  {
   "cell_type": "code",
   "execution_count": null,
   "id": "former-habitat",
   "metadata": {},
   "outputs": [],
   "source": [
    "analysis.numOrderDaysSizeBubble('./instacart-market-basket-analysis')"
   ]
  },
  {
   "cell_type": "code",
   "execution_count": null,
   "id": "applicable-competition",
   "metadata": {},
   "outputs": [],
   "source": [
    "analysis.orderTimeHeatMaps('./instacart-market-basket-analysis')"
   ]
  },
  {
   "cell_type": "code",
   "execution_count": null,
   "id": "ceramic-kinase",
   "metadata": {},
   "outputs": [],
   "source": [
    "generateWordCloud(\"./instacart-market-basket-analysis\")"
   ]
  },
  {
   "cell_type": "code",
   "execution_count": null,
   "id": "naughty-whole",
   "metadata": {},
   "outputs": [],
   "source": []
  }
 ],
 "metadata": {
  "kernelspec": {
   "display_name": "Python 3",
   "language": "python",
   "name": "python3"
  },
  "language_info": {
   "codemirror_mode": {
    "name": "ipython",
    "version": 3
   },
   "file_extension": ".py",
   "mimetype": "text/x-python",
   "name": "python",
   "nbconvert_exporter": "python",
   "pygments_lexer": "ipython3",
   "version": "3.8.8"
  }
 },
 "nbformat": 4,
 "nbformat_minor": 5
}
